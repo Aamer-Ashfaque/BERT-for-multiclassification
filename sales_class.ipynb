{
 "cells": [
  {
   "cell_type": "code",
   "execution_count": 2,
   "id": "56cc871a",
   "metadata": {},
   "outputs": [
    {
     "name": "stderr",
     "output_type": "stream",
     "text": [
      "2023-03-02 10:07:55.571586: I tensorflow/core/util/util.cc:169] oneDNN custom operations are on. You may see slightly different numerical results due to floating-point round-off errors from different computation orders. To turn them off, set the environment variable `TF_ENABLE_ONEDNN_OPTS=0`.\n",
      "2023-03-02 10:07:55.609289: W tensorflow/stream_executor/platform/default/dso_loader.cc:64] Could not load dynamic library 'libcudart.so.11.0'; dlerror: libcudart.so.11.0: cannot open shared object file: No such file or directory\n",
      "2023-03-02 10:07:55.609310: I tensorflow/stream_executor/cuda/cudart_stub.cc:29] Ignore above cudart dlerror if you do not have a GPU set up on your machine.\n"
     ]
    },
    {
     "data": {
      "text/html": [
       "<div>\n",
       "<style scoped>\n",
       "    .dataframe tbody tr th:only-of-type {\n",
       "        vertical-align: middle;\n",
       "    }\n",
       "\n",
       "    .dataframe tbody tr th {\n",
       "        vertical-align: top;\n",
       "    }\n",
       "\n",
       "    .dataframe thead th {\n",
       "        text-align: right;\n",
       "    }\n",
       "</style>\n",
       "<table border=\"1\" class=\"dataframe\">\n",
       "  <thead>\n",
       "    <tr style=\"text-align: right;\">\n",
       "      <th></th>\n",
       "      <th>Unnamed: 0</th>\n",
       "      <th>conversations_content</th>\n",
       "      <th>base_tags</th>\n",
       "    </tr>\n",
       "  </thead>\n",
       "  <tbody>\n",
       "    <tr>\n",
       "      <th>0</th>\n",
       "      <td>NaN</td>\n",
       "      <td>[‘ Sharanya Munsi  sharanyamunsi@gmail.com 891...</td>\n",
       "      <td>pre_sale</td>\n",
       "    </tr>\n",
       "    <tr>\n",
       "      <th>1</th>\n",
       "      <td>NaN</td>\n",
       "      <td>[‘I need to make bangle of my own design Conve...</td>\n",
       "      <td>pre_sale</td>\n",
       "    </tr>\n",
       "    <tr>\n",
       "      <th>2</th>\n",
       "      <td>NaN</td>\n",
       "      <td>[‘Conversation was  to Saba  Shaikh by Intelli...</td>\n",
       "      <td>pre_sale</td>\n",
       "    </tr>\n",
       "    <tr>\n",
       "      <th>3</th>\n",
       "      <td>NaN</td>\n",
       "      <td>[‘How to check EMI option? Deepa </td>\n",
       "      <td>pre_sale</td>\n",
       "    </tr>\n",
       "    <tr>\n",
       "      <th>4</th>\n",
       "      <td>NaN</td>\n",
       "      <td>[‘please delete my account’]</td>\n",
       "      <td>oth</td>\n",
       "    </tr>\n",
       "  </tbody>\n",
       "</table>\n",
       "</div>"
      ],
      "text/plain": [
       "   Unnamed: 0                              conversations_content base_tags\n",
       "0         NaN  [‘ Sharanya Munsi   ...  pre_sale\n",
       "1         NaN  [‘I need to make bangle of my own design Conve...  pre_sale\n",
       "2         NaN  [‘Conversation was  to Saba  Shaikh by Intelli...  pre_sale\n",
       "3         NaN  [‘How to check EMI option? Deepa  pre_sale\n",
       "4         NaN                       [‘please delete my account’]       oth"
      ]
     },
     "execution_count": 2,
     "metadata": {},
     "output_type": "execute_result"
    }
   ],
   "source": [
    "import pandas as pd\n",
    "import numpy as np\n",
    "import torch\n",
    "from tqdm.auto import tqdm\n",
    "import tensorflow as tf\n",
    "from transformers import BertTokenizer\n",
    "from torch.utils.data import TensorDataset\n",
    "\n",
    "from transformers import BertForSequenceClassification\n",
    "\n",
    "df = pd.read_excel('/home/ameer/Documents/pre-post-sale/basetags_annotated.ods')\n",
    "df.head()"
   ]
  },
  {
   "cell_type": "code",
   "execution_count": 2,
   "id": "8b437aa0",
   "metadata": {},
   "outputs": [],
   "source": [
    "pd.set_option('display.width', 10)\n",
    "pd.set_option(\"max_colwidth\", 1000)"
   ]
  },
  {
   "cell_type": "code",
   "execution_count": 4,
   "id": "5b4ff31f",
   "metadata": {},
   "outputs": [],
   "source": [
    "def preprocess(df):\n",
    "    df['conversations_content'] = df['conversations_content'].astype(str).str.replace('[','',regex = True)\n",
    "    df['conversations_content'] = df['conversations_content'].str.replace(']','',regex = True)\n",
    "    df['conversations_content'] = df['conversations_content'].str.replace('/','',regex = True)\n",
    "    df['conversations_content'] = df['conversations_content'].str.replace('`','')\n",
    "    df['conversations_content'] = df['conversations_content'].str.replace(\"',\",'')\n",
    "    df['conversations_content'] = df['conversations_content'].str.replace('\",','')\n",
    "    df['conversations_content'] = df['conversations_content'].str.replace(\"'\",'')\n",
    "    df['conversations_content'] = df['conversations_content'].str.replace('\"','')\n",
    "    df['conversations_content'] = df['conversations_content'].str.replace(',','.')\n",
    "    #df1['conversations_content'] = df1['conversations_content'].str.replace(r'\\..','.')\n",
    "    #df1['conversations_content'] = df1['conversations_content'].str.replace('ill','i will')\n",
    "    df['conversations_content'] = df['conversations_content'].str.replace(r'-','.')\n",
    "    df['conversations_content'] = df['conversations_content'].str.replace(r'\\\\n','',regex = True)\n",
    "    df['conversations_content'] = df['conversations_content'].str.replace(r'\\\\t','',regex = True)\n",
    "    #df1['conversations_content'] = df1['conversations_content'].str.replace('  ',' ')\n",
    "    \n",
    "    return df"
   ]
  },
  {
   "cell_type": "code",
   "execution_count": 4,
   "id": "099d2fe3",
   "metadata": {},
   "outputs": [],
   "source": [
    "df =  preprocess(df)"
   ]
  },
  {
   "cell_type": "code",
   "execution_count": 3,
   "id": "0cda01f6",
   "metadata": {},
   "outputs": [],
   "source": [
    "df.drop(['Unnamed: 0'], axis=1, inplace=True)"
   ]
  },
  {
   "cell_type": "code",
   "execution_count": 6,
   "id": "66a7fc83",
   "metadata": {},
   "outputs": [
    {
     "data": {
      "text/plain": [
       "(1953, 2)"
      ]
     },
     "execution_count": 6,
     "metadata": {},
     "output_type": "execute_result"
    }
   ],
   "source": [
    "df.shape"
   ]
  },
  {
   "cell_type": "code",
   "execution_count": 7,
   "id": "7f13b6fa",
   "metadata": {},
   "outputs": [
    {
     "data": {
      "text/html": [
       "<div>\n",
       "<style scoped>\n",
       "    .dataframe tbody tr th:only-of-type {\n",
       "        vertical-align: middle;\n",
       "    }\n",
       "\n",
       "    .dataframe tbody tr th {\n",
       "        vertical-align: top;\n",
       "    }\n",
       "\n",
       "    .dataframe thead th {\n",
       "        text-align: right;\n",
       "    }\n",
       "</style>\n",
       "<table border=\"1\" class=\"dataframe\">\n",
       "  <thead>\n",
       "    <tr style=\"text-align: right;\">\n",
       "      <th></th>\n",
       "      <th>conversations_content</th>\n",
       "      <th>base_tags</th>\n",
       "    </tr>\n",
       "  </thead>\n",
       "  <tbody>\n",
       "    <tr>\n",
       "      <th>52</th>\n",
       "      <td>‘Regarding GWD’</td>\n",
       "      <td>oth</td>\n",
       "    </tr>\n",
       "    <tr>\n",
       "      <th>668</th>\n",
       "      <td>Welcome to CaratLane . A Tanishq Partnership. We are Indias largest and most trusted online jeweller. Thank you for contacting CaratLane! Hope you are safe and doing good. This is Gourav here. How can I help you?  Hi Gourav I want to avail the Kisht option for product in my cart Can you let me know how to avail the same? ? Hi Sure! We do have an Option for EMI! It will be via Liquiloans and it is a cibil score based EMI! Post a credit score check. the EMI will be provided. It is also a downpayment based EMI! Ok We have interest free EMI via LIQUILOANS on purchase of on or above Rs.15000 and the minimum salary in hand should be Rs.20.000The tenures are as follows: 8 months. (6 EMI months + 2 months down payment) &amp; processing fee of 4%+gst on processing fee12 months. (8 EMI months + 4 months down payment) &amp; processing fee of 4%+gst on processing fee10 months. (8 EMI months + 2 months down payment) &amp; processing fee of 5%+gst on processing fee. The details required are:. 2...</td>\n",
       "      <td>pre_sale</td>\n",
       "    </tr>\n",
       "    <tr>\n",
       "      <th>28</th>\n",
       "      <td>‘I want to redeem my points’</td>\n",
       "      <td>pre_sale</td>\n",
       "    </tr>\n",
       "    <tr>\n",
       "      <th>1840</th>\n",
       "      <td>Hi Hadeel  mazenmahmood31@gmail.com  May i ask you is there return option available?  Conversation was assigned to Inamul H by IntelliAssign If i purchase it online? Thank you for contacting CaratLane. A Tanishq Partnership. Hope your doing good ? This is Inamul&amp;nbsp; How can i assist you today..? yeah and hope you too We have return options available for both gold and solitaire jewelery is there return option available? If i purchase it through online? Are you looking for a purchase at the moment right now? No. but i will br ordering it soon so wanted to confirm first that about return because i couldnt read it anywhere That is really great We have a 15 day exchange and a 15 day money back policies were we will be giving a full invoice value exchange and return for orders worth 1.00.000rs in gold and in case of solitaire it is upto 5.00.000rs Yeah thats what I was asking but I will not be purchasing upto that value I am sorry if my earlier statement is not clear enough. if you ord...</td>\n",
       "      <td>post_sale</td>\n",
       "    </tr>\n",
       "    <tr>\n",
       "      <th>735</th>\n",
       "      <td>‘I want to cancel my order’</td>\n",
       "      <td>post_sale</td>\n",
       "    </tr>\n",
       "  </tbody>\n",
       "</table>\n",
       "</div>"
      ],
      "text/plain": [
       "                                                                                                                                                                                                                                                                                                                                                                                                                                                                                                                                                                                                                                                                                                                                                                                                                                                                                                                                                                                                                        conversations_content  \\\n",
       "52                                                                                                                                                                                                                                                                                                                                                                                                                                                                                                                                                                                                                                                                                                                                                                                                                                                                                                                                                                                                                            ‘Regarding GWD’   \n",
       "668   Welcome to CaratLane . A Tanishq Partnership. We are Indias largest and most trusted online jeweller. Thank you for contacting CaratLane! Hope you are safe and doing good. This is Gourav here. How can I help you?  Hi Gourav I want to avail the Kisht option for product in my cart Can you let me know how to avail the same? ? Hi Sure! We do have an Option for EMI! It will be via Liquiloans and it is a cibil score based EMI! Post a credit score check. the EMI will be provided. It is also a downpayment based EMI! Ok We have interest free EMI via LIQUILOANS on purchase of on or above Rs.15000 and the minimum salary in hand should be Rs.20.000The tenures are as follows: 8 months. (6 EMI months + 2 months down payment) & processing fee of 4%+gst on processing fee12 months. (8 EMI months + 4 months down payment) & processing fee of 4%+gst on processing fee10 months. (8 EMI months + 2 months down payment) & processing fee of 5%+gst on processing fee. The details required are: 1)Full Name:. 2...   \n",
       "28                                                                                                                                                                                                                                                                                                                                                                                                                                                                                                                                                                                                                                                                                                                                                                                                                                                                                                                                                                                                               ‘I want to redeem my points’   \n",
       "1840  Hi Hadeel  mazenmahmood31@gmail.com  May i ask you is there return option available?  Conversation was assigned to Inamul H by IntelliAssign If i purchase it online? Thank you for contacting CaratLane. A Tanishq Partnership. Hope your doing good ? This is Inamul&nbsp; How can i assist you today..? yeah and hope you too We have return options available for both gold and solitaire jewelery is there return option available? If i purchase it through online? Are you looking for a purchase at the moment right now? No. but i will br ordering it soon so wanted to confirm first that about return because i couldnt read it anywhere That is really great We have a 15 day exchange and a 15 day money back policies were we will be giving a full invoice value exchange and return for orders worth 1.00.000rs in gold and in case of solitaire it is upto 5.00.000rs Yeah thats what I was asking but I will not be purchasing upto that value I am sorry if my earlier statement is not clear enough. if you ord...   \n",
       "735                                                                                                                                                                                                                                                                                                                                                                                                                                                                                                                                                                                                                                                                                                                                                                                                                                                                                                                                                                                                               ‘I want to cancel my order’   \n",
       "\n",
       "      base_tags  \n",
       "52          oth  \n",
       "668    pre_sale  \n",
       "28     pre_sale  \n",
       "1840  post_sale  \n",
       "735   post_sale  "
      ]
     },
     "execution_count": 7,
     "metadata": {},
     "output_type": "execute_result"
    }
   ],
   "source": [
    "df.sample(5)"
   ]
  },
  {
   "cell_type": "code",
   "execution_count": 8,
   "id": "f6c3b07f",
   "metadata": {},
   "outputs": [],
   "source": [
    "df.dropna(inplace=True)"
   ]
  },
  {
   "cell_type": "code",
   "execution_count": 9,
   "id": "e442d2ba",
   "metadata": {},
   "outputs": [
    {
     "data": {
      "text/plain": [
       "{'pre_sale': 0, 'oth': 1, 'post_sale': 2}"
      ]
     },
     "execution_count": 9,
     "metadata": {},
     "output_type": "execute_result"
    }
   ],
   "source": [
    "possible_labels = df.base_tags.unique()\n",
    "\n",
    "label_dict = {}\n",
    "for index, possible_label in enumerate(possible_labels):\n",
    "    label_dict[possible_label] = index\n",
    "label_dict"
   ]
  },
  {
   "cell_type": "code",
   "execution_count": 10,
   "id": "196b7373",
   "metadata": {},
   "outputs": [],
   "source": [
    "df['label'] = df.base_tags.replace(label_dict)"
   ]
  },
  {
   "cell_type": "code",
   "execution_count": 11,
   "id": "b6969ee3",
   "metadata": {},
   "outputs": [
    {
     "data": {
      "text/html": [
       "<div>\n",
       "<style scoped>\n",
       "    .dataframe tbody tr th:only-of-type {\n",
       "        vertical-align: middle;\n",
       "    }\n",
       "\n",
       "    .dataframe tbody tr th {\n",
       "        vertical-align: top;\n",
       "    }\n",
       "\n",
       "    .dataframe thead th {\n",
       "        text-align: right;\n",
       "    }\n",
       "</style>\n",
       "<table border=\"1\" class=\"dataframe\">\n",
       "  <thead>\n",
       "    <tr style=\"text-align: right;\">\n",
       "      <th></th>\n",
       "      <th>conversations_content</th>\n",
       "      <th>base_tags</th>\n",
       "      <th>label</th>\n",
       "    </tr>\n",
       "  </thead>\n",
       "  <tbody>\n",
       "    <tr>\n",
       "      <th>0</th>\n",
       "      <td>‘ Sharanya Munsi  sharanyamunsi@gmail.com 8910008094 Conversation was  to Abdul Salam Khan by IntelliAssign This is Abdul here! glad to assist you&amp;nbsp; I need  with updating my birthday date  It is 7th vember  I plan on making a purchase and would like to receive the additional birthday discount   let me know if that is possible because I just got a call saying I cant as my coupon has expired  For that you need to mail us on Contactus@caratlane.com  Is there anything else that I may  you with? If i update my date will the discount be made available this month?  t possible now \\ryou should have informed us one month back Is there anything else that I may  you with?  you for your time! It was my pleasure to assist you. I hope I answered all your queries to your satisfaction. Kindly rate the  after you close the .Have a good day :)Looking forward to serving you again! :) Conversation was   by Abdul Salam Khan’</td>\n",
       "      <td>pre_sale</td>\n",
       "      <td>0</td>\n",
       "    </tr>\n",
       "    <tr>\n",
       "      <th>1</th>\n",
       "      <td>‘I need to make bangle of my own design Conversation reopened due to new incoming message May I know the process Assigned to group Presale . Chat  by Kinjal Adodra Conversation was assigned to Sudhanshu  Panda by IntelliAssign We appreciate you contacting CaratLane.Hope you are doing well!This is Sudhanshu&amp;nbsp;More than happy to help you :) nan. May I know how much it will cost If I have this one to make Kindly allow me few minutes for the same please . Kindly let me know the  bangle size  along with gold type . and which  quality diamonds you want . Tell me . what the quality of diamonds means? 18K gold 2.3 size And screw is also needed Hi Kindly allow me some time to ask with our customization team for the same . Before that shall I send you a similar design of the same which is available at our Caratlane . Do send the design Assisted .&amp;gt;connected on WhatsApp.&amp;gt;will follow up. As we are connected on WhatsApp . I am closing this chat from here . For any further queries . you ...</td>\n",
       "      <td>pre_sale</td>\n",
       "      <td>0</td>\n",
       "    </tr>\n",
       "    <tr>\n",
       "      <th>2</th>\n",
       "      <td>‘Conversation was  to Saba  Shaikh by IntelliAssign. Do we have a option to buy a voucher ? Welcome to Caratlane A Tanishq Partnership&amp;nbsp; My name is Saba \\r I would like to inform you that as of now we stop selling voucher I was willing to gift a voucher sort of thing to someone I do understand but i am so sorry Conversation was   by Saba  Shaikh’</td>\n",
       "      <td>pre_sale</td>\n",
       "      <td>0</td>\n",
       "    </tr>\n",
       "    <tr>\n",
       "      <th>3</th>\n",
       "      <td>‘How to check EMI option? Deepa deepabhat613@gmail.com 8792135431 Conversation was assigned to HItesh Makwana by IntelliAssign How to check EMI option  Hi ! This is Hitesh.\\rThank you for contacting CaratLane. A Tanishq Partnership.\\rHope you and your family are safe Please confirm do you wish to purchase new product call the customer { cx wants to purchase some new products she requested to call her back on weekends } Conversation was marked resolved by HItesh Makwana’</td>\n",
       "      <td>pre_sale</td>\n",
       "      <td>0</td>\n",
       "    </tr>\n",
       "    <tr>\n",
       "      <th>4</th>\n",
       "      <td>‘please delete my account’</td>\n",
       "      <td>oth</td>\n",
       "      <td>1</td>\n",
       "    </tr>\n",
       "  </tbody>\n",
       "</table>\n",
       "</div>"
      ],
      "text/plain": [
       "                                                                                                                                                                                                                                                                                                                                                                                                                                                                                                                                                                                                                                                                                                                                                                                                                                                                                                                                                                                                                     conversations_content  \\\n",
       "0                                                                                ‘ Sharanya Munsi  sharanyamunsi@gmail.com 8910008094 Conversation was  to Abdul Salam Khan by IntelliAssign This is Abdul here! glad to assist you&nbsp; I need  with updating my birthday date  It is 7th vember  I plan on making a purchase and would like to receive the additional birthday discount   let me know if that is possible because I just got a call saying I cant as my coupon has expired  For that you need to mail us on Contactus@caratlane.com  Is there anything else that I may  you with? If i update my date will the discount be made available this month?  t possible now \\ryou should have informed us one month back Is there anything else that I may  you with?  you for your time! It was my pleasure to assist you. I hope I answered all your queries to your satisfaction. Kindly rate the  after you close the .Have a good day :)Looking forward to serving you again! :) Conversation was   by Abdul Salam Khan’   \n",
       "1  ‘I need to make bangle of my own design Conversation reopened due to new incoming message May I know the process Assigned to group Presale . Chat  by Kinjal Adodra Conversation was assigned to Sudhanshu  Panda by IntelliAssign We appreciate you contacting CaratLane.Hope you are doing well!This is Sudhanshu&nbsp;More than happy to help you :) nan. May I know how much it will cost If I have this one to make Kindly allow me few minutes for the same please . Kindly let me know the  bangle size  along with gold type . and which  quality diamonds you want . Tell me . what the quality of diamonds means? 18K gold 2.3 size And screw is also needed Hi Kindly allow me some time to ask with our customization team for the same . Before that shall I send you a similar design of the same which is available at our Caratlane . Do send the design Assisted .&gt;connected on WhatsApp.&gt;will follow up. As we are connected on WhatsApp . I am closing this chat from here . For any further queries . you ...   \n",
       "2                                                                                                                                                                                                                                                                                                                                                                                                                                                                                                                                                                                                                                                                         ‘Conversation was  to Saba  Shaikh by IntelliAssign. Do we have a option to buy a voucher ? Welcome to Caratlane A Tanishq Partnership&nbsp; My name is Saba \\r I would like to inform you that as of now we stop selling voucher I was willing to gift a voucher sort of thing to someone I do understand but i am so sorry Conversation was   by Saba  Shaikh’   \n",
       "3                                                                                                                                                                                                                                                                                                                                                                                                                                                                                                                                               ‘How to check EMI option? Deepa deepabhat613@gmail.com 8792135431 Conversation was assigned to HItesh Makwana by IntelliAssign How to check EMI option  Hi ! This is Hitesh.\\rThank you for contacting CaratLane. A Tanishq Partnership.\\rHope you and your family are safe Please confirm do you wish to purchase new product call the customer { cx wants to purchase some new products she requested to call her back on weekends } Conversation was marked resolved by HItesh Makwana’   \n",
       "4                                                                                                                                                                                                                                                                                                                                                                                                                                                                                                                                                                                                                                                                                                                                                                                                                                                                                                                                                                                                               ‘please delete my account’   \n",
       "\n",
       "  base_tags  \\\n",
       "0  pre_sale   \n",
       "1  pre_sale   \n",
       "2  pre_sale   \n",
       "3  pre_sale   \n",
       "4       oth   \n",
       "\n",
       "   label  \n",
       "0      0  \n",
       "1      0  \n",
       "2      0  \n",
       "3      0  \n",
       "4      1  "
      ]
     },
     "execution_count": 11,
     "metadata": {},
     "output_type": "execute_result"
    }
   ],
   "source": [
    "df.head()"
   ]
  },
  {
   "cell_type": "code",
   "execution_count": 12,
   "id": "90c786e4",
   "metadata": {},
   "outputs": [
    {
     "name": "stdout",
     "output_type": "stream",
     "text": [
      "<class 'pandas.core.frame.DataFrame'>\n",
      "Int64Index: 1951 entries, 0 to 1952\n",
      "Data columns (total 3 columns):\n",
      " #   Column                 Non-Null Count  Dtype \n",
      "---  ------                 --------------  ----- \n",
      " 0   conversations_content  1951 non-null   object\n",
      " 1   base_tags              1951 non-null   object\n",
      " 2   label                  1951 non-null   int64 \n",
      "dtypes: int64(1), object(2)\n",
      "memory usage: 61.0+ KB\n"
     ]
    }
   ],
   "source": [
    "df.info()"
   ]
  },
  {
   "cell_type": "code",
   "execution_count": 13,
   "id": "8a825fa5",
   "metadata": {},
   "outputs": [],
   "source": [
    "df['label'] = df['label'].astype(int)"
   ]
  },
  {
   "cell_type": "code",
   "execution_count": 14,
   "id": "9f85dc1d",
   "metadata": {},
   "outputs": [
    {
     "data": {
      "text/html": [
       "<div>\n",
       "<style scoped>\n",
       "    .dataframe tbody tr th:only-of-type {\n",
       "        vertical-align: middle;\n",
       "    }\n",
       "\n",
       "    .dataframe tbody tr th {\n",
       "        vertical-align: top;\n",
       "    }\n",
       "\n",
       "    .dataframe thead th {\n",
       "        text-align: right;\n",
       "    }\n",
       "</style>\n",
       "<table border=\"1\" class=\"dataframe\">\n",
       "  <thead>\n",
       "    <tr style=\"text-align: right;\">\n",
       "      <th></th>\n",
       "      <th>conversations_content</th>\n",
       "      <th>base_tags</th>\n",
       "      <th>label</th>\n",
       "    </tr>\n",
       "  </thead>\n",
       "  <tbody>\n",
       "    <tr>\n",
       "      <th>0</th>\n",
       "      <td>‘ Sharanya Munsi  sharanyamunsi@gmail.com 8910008094 Conversation was  to Abdul Salam Khan by IntelliAssign This is Abdul here! glad to assist you&amp;nbsp; I need  with updating my birthday date  It is 7th vember  I plan on making a purchase and would like to receive the additional birthday discount   let me know if that is possible because I just got a call saying I cant as my coupon has expired  For that you need to mail us on Contactus@caratlane.com  Is there anything else that I may  you with? If i update my date will the discount be made available this month?  t possible now \\ryou should have informed us one month back Is there anything else that I may  you with?  you for your time! It was my pleasure to assist you. I hope I answered all your queries to your satisfaction. Kindly rate the  after you close the .Have a good day :)Looking forward to serving you again! :) Conversation was   by Abdul Salam Khan’</td>\n",
       "      <td>pre_sale</td>\n",
       "      <td>0</td>\n",
       "    </tr>\n",
       "    <tr>\n",
       "      <th>1</th>\n",
       "      <td>‘I need to make bangle of my own design Conversation reopened due to new incoming message May I know the process Assigned to group Presale . Chat  by Kinjal Adodra Conversation was assigned to Sudhanshu  Panda by IntelliAssign We appreciate you contacting CaratLane.Hope you are doing well!This is Sudhanshu&amp;nbsp;More than happy to help you :) nan. May I know how much it will cost If I have this one to make Kindly allow me few minutes for the same please . Kindly let me know the  bangle size  along with gold type . and which  quality diamonds you want . Tell me . what the quality of diamonds means? 18K gold 2.3 size And screw is also needed Hi Kindly allow me some time to ask with our customization team for the same . Before that shall I send you a similar design of the same which is available at our Caratlane . Do send the design Assisted .&amp;gt;connected on WhatsApp.&amp;gt;will follow up. As we are connected on WhatsApp . I am closing this chat from here . For any further queries . you ...</td>\n",
       "      <td>pre_sale</td>\n",
       "      <td>0</td>\n",
       "    </tr>\n",
       "    <tr>\n",
       "      <th>2</th>\n",
       "      <td>‘Conversation was  to Saba  Shaikh by IntelliAssign. Do we have a option to buy a voucher ? Welcome to Caratlane A Tanishq Partnership&amp;nbsp; My name is Saba \\r I would like to inform you that as of now we stop selling voucher I was willing to gift a voucher sort of thing to someone I do understand but i am so sorry Conversation was   by Saba  Shaikh’</td>\n",
       "      <td>pre_sale</td>\n",
       "      <td>0</td>\n",
       "    </tr>\n",
       "    <tr>\n",
       "      <th>3</th>\n",
       "      <td>‘How to check EMI option? Deepa deepabhat613@gmail.com 8792135431 Conversation was assigned to HItesh Makwana by IntelliAssign How to check EMI option  Hi ! This is Hitesh.\\rThank you for contacting CaratLane. A Tanishq Partnership.\\rHope you and your family are safe Please confirm do you wish to purchase new product call the customer { cx wants to purchase some new products she requested to call her back on weekends } Conversation was marked resolved by HItesh Makwana’</td>\n",
       "      <td>pre_sale</td>\n",
       "      <td>0</td>\n",
       "    </tr>\n",
       "    <tr>\n",
       "      <th>4</th>\n",
       "      <td>‘please delete my account’</td>\n",
       "      <td>oth</td>\n",
       "      <td>1</td>\n",
       "    </tr>\n",
       "  </tbody>\n",
       "</table>\n",
       "</div>"
      ],
      "text/plain": [
       "                                                                                                                                                                                                                                                                                                                                                                                                                                                                                                                                                                                                                                                                                                                                                                                                                                                                                                                                                                                                                     conversations_content  \\\n",
       "0                                                                                ‘ Sharanya Munsi  sharanyamunsi@gmail.com 8910008094 Conversation was  to Abdul Salam Khan by IntelliAssign This is Abdul here! glad to assist you&nbsp; I need  with updating my birthday date  It is 7th vember  I plan on making a purchase and would like to receive the additional birthday discount   let me know if that is possible because I just got a call saying I cant as my coupon has expired  For that you need to mail us on Contactus@caratlane.com  Is there anything else that I may  you with? If i update my date will the discount be made available this month?  t possible now \\ryou should have informed us one month back Is there anything else that I may  you with?  you for your time! It was my pleasure to assist you. I hope I answered all your queries to your satisfaction. Kindly rate the  after you close the .Have a good day :)Looking forward to serving you again! :) Conversation was   by Abdul Salam Khan’   \n",
       "1  ‘I need to make bangle of my own design Conversation reopened due to new incoming message May I know the process Assigned to group Presale . Chat  by Kinjal Adodra Conversation was assigned to Sudhanshu  Panda by IntelliAssign We appreciate you contacting CaratLane.Hope you are doing well!This is Sudhanshu&nbsp;More than happy to help you :) nan. May I know how much it will cost If I have this one to make Kindly allow me few minutes for the same please . Kindly let me know the  bangle size  along with gold type . and which  quality diamonds you want . Tell me . what the quality of diamonds means? 18K gold 2.3 size And screw is also needed Hi Kindly allow me some time to ask with our customization team for the same . Before that shall I send you a similar design of the same which is available at our Caratlane . Do send the design Assisted .&gt;connected on WhatsApp.&gt;will follow up. As we are connected on WhatsApp . I am closing this chat from here . For any further queries . you ...   \n",
       "2                                                                                                                                                                                                                                                                                                                                                                                                                                                                                                                                                                                                                                                                         ‘Conversation was  to Saba  Shaikh by IntelliAssign. Do we have a option to buy a voucher ? Welcome to Caratlane A Tanishq Partnership&nbsp; My name is Saba \\r I would like to inform you that as of now we stop selling voucher I was willing to gift a voucher sort of thing to someone I do understand but i am so sorry Conversation was   by Saba  Shaikh’   \n",
       "3                                                                                                                                                                                                                                                                                                                                                                                                                                                                                                                                               ‘How to check EMI option? Deepa deepabhat613@gmail.com 8792135431 Conversation was assigned to HItesh Makwana by IntelliAssign How to check EMI option  Hi ! This is Hitesh.\\rThank you for contacting CaratLane. A Tanishq Partnership.\\rHope you and your family are safe Please confirm do you wish to purchase new product call the customer { cx wants to purchase some new products she requested to call her back on weekends } Conversation was marked resolved by HItesh Makwana’   \n",
       "4                                                                                                                                                                                                                                                                                                                                                                                                                                                                                                                                                                                                                                                                                                                                                                                                                                                                                                                                                                                                               ‘please delete my account’   \n",
       "\n",
       "  base_tags  \\\n",
       "0  pre_sale   \n",
       "1  pre_sale   \n",
       "2  pre_sale   \n",
       "3  pre_sale   \n",
       "4       oth   \n",
       "\n",
       "   label  \n",
       "0      0  \n",
       "1      0  \n",
       "2      0  \n",
       "3      0  \n",
       "4      1  "
      ]
     },
     "execution_count": 14,
     "metadata": {},
     "output_type": "execute_result"
    }
   ],
   "source": [
    "df.head()"
   ]
  },
  {
   "cell_type": "code",
   "execution_count": 15,
   "id": "1c95ea41",
   "metadata": {},
   "outputs": [
    {
     "data": {
      "text/plain": [
       "2    838\n",
       "0    660\n",
       "1    453\n",
       "Name: label, dtype: int64"
      ]
     },
     "execution_count": 15,
     "metadata": {},
     "output_type": "execute_result"
    }
   ],
   "source": [
    "df['label'].value_counts()"
   ]
  },
  {
   "cell_type": "code",
   "execution_count": 16,
   "id": "ae2b918b",
   "metadata": {},
   "outputs": [],
   "source": [
    "tokenizer = BertTokenizer.from_pretrained('bert-base-cased', \n",
    "                                          do_lower_case=True)"
   ]
  },
  {
   "cell_type": "code",
   "execution_count": 17,
   "id": "b5010206",
   "metadata": {},
   "outputs": [
    {
     "name": "stderr",
     "output_type": "stream",
     "text": [
      "2022-11-28 11:17:41.378082: W tensorflow/stream_executor/platform/default/dso_loader.cc:64] Could not load dynamic library 'libcuda.so.1'; dlerror: libcuda.so.1: cannot open shared object file: No such file or directory\n",
      "2022-11-28 11:17:41.378111: W tensorflow/stream_executor/cuda/cuda_driver.cc:269] failed call to cuInit: UNKNOWN ERROR (303)\n",
      "2022-11-28 11:17:41.378129: I tensorflow/stream_executor/cuda/cuda_diagnostics.cc:156] kernel driver does not appear to be running on this host (CLLAP-CHN-1343): /proc/driver/nvidia/version does not exist\n",
      "2022-11-28 11:17:41.379222: I tensorflow/core/platform/cpu_feature_guard.cc:193] This TensorFlow binary is optimized with oneAPI Deep Neural Network Library (oneDNN) to use the following CPU instructions in performance-critical operations:  AVX2 AVX512F AVX512_VNNI FMA\n",
      "To enable them in other operations, rebuild TensorFlow with the appropriate compiler flags.\n"
     ]
    }
   ],
   "source": [
    "token = tokenizer.encode_plus(\n",
    "    df['conversations_content'].iloc[0], \n",
    "    max_length=512, \n",
    "    truncation=True, \n",
    "    padding='max_length', \n",
    "    add_special_tokens=True,\n",
    "    return_tensors='tf'\n",
    ")"
   ]
  },
  {
   "cell_type": "code",
   "execution_count": 18,
   "id": "25290584",
   "metadata": {},
   "outputs": [],
   "source": [
    "X_input_ids = np.zeros((len(df), 512))\n",
    "X_attn_masks = np.zeros((len(df), 512))"
   ]
  },
  {
   "cell_type": "code",
   "execution_count": 19,
   "id": "50e55abf",
   "metadata": {},
   "outputs": [
    {
     "data": {
      "text/plain": [
       "(1951, 512)"
      ]
     },
     "execution_count": 19,
     "metadata": {},
     "output_type": "execute_result"
    }
   ],
   "source": [
    "X_input_ids.shape"
   ]
  },
  {
   "cell_type": "code",
   "execution_count": 20,
   "id": "1ee25aa2",
   "metadata": {},
   "outputs": [],
   "source": [
    "def generate_training_data(df, ids, masks, tokenizer):\n",
    "    for i, text in tqdm(enumerate(df['conversations_content'])):\n",
    "        tokenized_text = tokenizer.encode_plus(\n",
    "            text,\n",
    "            max_length=512, \n",
    "            truncation=True, \n",
    "            padding='max_length', \n",
    "            add_special_tokens=True,\n",
    "            return_tensors='tf'\n",
    "        )\n",
    "        ids[i, :] = tokenized_text.input_ids\n",
    "        masks[i, :] = tokenized_text.attention_mask\n",
    "    return ids, masks"
   ]
  },
  {
   "cell_type": "code",
   "execution_count": 21,
   "id": "fd250429",
   "metadata": {},
   "outputs": [
    {
     "data": {
      "application/vnd.jupyter.widget-view+json": {
       "model_id": "b0d5e2d72a714373b275e72c396a3eb4",
       "version_major": 2,
       "version_minor": 0
      },
      "text/plain": [
       "0it [00:00, ?it/s]"
      ]
     },
     "metadata": {},
     "output_type": "display_data"
    }
   ],
   "source": [
    "X_input_ids, X_attn_masks = generate_training_data(df, X_input_ids, X_attn_masks, tokenizer)"
   ]
  },
  {
   "cell_type": "code",
   "execution_count": 22,
   "id": "47dfba64",
   "metadata": {},
   "outputs": [
    {
     "data": {
      "text/plain": [
       "array([[ 101.,  786.,  188., ...,    0.,    0.,    0.],\n",
       "       [ 101.,  786.,  178., ...,    0.,    0.,    0.],\n",
       "       [ 101.,  786., 3771., ...,    0.,    0.,    0.],\n",
       "       ...,\n",
       "       [ 101., 3771., 1108., ...,    0.,    0.,    0.],\n",
       "       [ 101., 3771., 1108., ...,    0.,    0.,    0.],\n",
       "       [ 101., 3771., 1108., ...,    0.,    0.,    0.]])"
      ]
     },
     "execution_count": 22,
     "metadata": {},
     "output_type": "execute_result"
    }
   ],
   "source": [
    "X_input_ids"
   ]
  },
  {
   "cell_type": "code",
   "execution_count": 23,
   "id": "0b55e467",
   "metadata": {},
   "outputs": [
    {
     "data": {
      "text/plain": [
       "(1951, 3)"
      ]
     },
     "execution_count": 23,
     "metadata": {},
     "output_type": "execute_result"
    }
   ],
   "source": [
    "labels = np.zeros((len(df), 3))\n",
    "labels.shape"
   ]
  },
  {
   "cell_type": "code",
   "execution_count": 24,
   "id": "d90ee6f8",
   "metadata": {},
   "outputs": [],
   "source": [
    "labels[np.arange(len(df)), df['label'].values] = 1"
   ]
  },
  {
   "cell_type": "code",
   "execution_count": 25,
   "id": "5169ae46",
   "metadata": {},
   "outputs": [
    {
     "data": {
      "text/plain": [
       "array([[1., 0., 0.],\n",
       "       [1., 0., 0.],\n",
       "       [1., 0., 0.],\n",
       "       ...,\n",
       "       [0., 1., 0.],\n",
       "       [1., 0., 0.],\n",
       "       [0., 1., 0.]])"
      ]
     },
     "execution_count": 25,
     "metadata": {},
     "output_type": "execute_result"
    }
   ],
   "source": [
    "labels"
   ]
  },
  {
   "cell_type": "code",
   "execution_count": 26,
   "id": "4c455b68",
   "metadata": {},
   "outputs": [],
   "source": [
    "dataset = tf.data.Dataset.from_tensor_slices((X_input_ids, X_attn_masks, labels))"
   ]
  },
  {
   "cell_type": "code",
   "execution_count": 27,
   "id": "b9fdcda9",
   "metadata": {},
   "outputs": [
    {
     "data": {
      "text/plain": [
       "<TakeDataset element_spec=(TensorSpec(shape=(512,), dtype=tf.float64, name=None), TensorSpec(shape=(512,), dtype=tf.float64, name=None), TensorSpec(shape=(3,), dtype=tf.float64, name=None))>"
      ]
     },
     "execution_count": 27,
     "metadata": {},
     "output_type": "execute_result"
    }
   ],
   "source": [
    "dataset.take(1)"
   ]
  },
  {
   "cell_type": "code",
   "execution_count": 28,
   "id": "32bd3aec",
   "metadata": {},
   "outputs": [],
   "source": [
    "def ClassMapFunction(input_ids, attn_masks, labels):\n",
    "    return {\n",
    "        'input_ids': input_ids,\n",
    "        'attention_mask': attn_masks\n",
    "    },labels"
   ]
  },
  {
   "cell_type": "code",
   "execution_count": 29,
   "id": "259129cd",
   "metadata": {},
   "outputs": [],
   "source": [
    "dataset = dataset.map(ClassMapFunction) # converting to required format for tensorflow dataset"
   ]
  },
  {
   "cell_type": "code",
   "execution_count": 30,
   "id": "02e7674e",
   "metadata": {},
   "outputs": [
    {
     "data": {
      "text/plain": [
       "<TakeDataset element_spec=({'input_ids': TensorSpec(shape=(512,), dtype=tf.float64, name=None), 'attention_mask': TensorSpec(shape=(512,), dtype=tf.float64, name=None)}, TensorSpec(shape=(3,), dtype=tf.float64, name=None))>"
      ]
     },
     "execution_count": 30,
     "metadata": {},
     "output_type": "execute_result"
    }
   ],
   "source": [
    "dataset.take(1)"
   ]
  },
  {
   "cell_type": "code",
   "execution_count": 31,
   "id": "f64785c5",
   "metadata": {},
   "outputs": [],
   "source": [
    "dataset = dataset.shuffle(1538).batch(2, drop_remainder=True) # batch size, drop any left out tensor"
   ]
  },
  {
   "cell_type": "code",
   "execution_count": 32,
   "id": "a9c96074",
   "metadata": {},
   "outputs": [
    {
     "data": {
      "text/plain": [
       "<TakeDataset element_spec=({'input_ids': TensorSpec(shape=(2, 512), dtype=tf.float64, name=None), 'attention_mask': TensorSpec(shape=(2, 512), dtype=tf.float64, name=None)}, TensorSpec(shape=(2, 3), dtype=tf.float64, name=None))>"
      ]
     },
     "execution_count": 32,
     "metadata": {},
     "output_type": "execute_result"
    }
   ],
   "source": [
    "dataset.take(1)"
   ]
  },
  {
   "cell_type": "code",
   "execution_count": null,
   "id": "407d2bc5",
   "metadata": {},
   "outputs": [],
   "source": []
  },
  {
   "cell_type": "code",
   "execution_count": 33,
   "id": "5ecfc274",
   "metadata": {},
   "outputs": [],
   "source": [
    "p = 0.95\n",
    "train_size = int((len(df)//1.2)*p) # for each 2 batch of data we will have len(df)//2 samples, take 95% of that for train.\n"
   ]
  },
  {
   "cell_type": "code",
   "execution_count": 34,
   "id": "d42b2fe6",
   "metadata": {},
   "outputs": [
    {
     "data": {
      "text/plain": [
       "1543"
      ]
     },
     "execution_count": 34,
     "metadata": {},
     "output_type": "execute_result"
    }
   ],
   "source": [
    "train_size"
   ]
  },
  {
   "cell_type": "code",
   "execution_count": 35,
   "id": "90a4b9f1",
   "metadata": {},
   "outputs": [],
   "source": [
    "train_dataset = dataset.take(train_size)\n",
    "val_dataset = dataset.skip(train_size)"
   ]
  },
  {
   "cell_type": "code",
   "execution_count": 36,
   "id": "80cdfd70",
   "metadata": {},
   "outputs": [
    {
     "data": {
      "text/plain": [
       "<TakeDataset element_spec=({'input_ids': TensorSpec(shape=(2, 512), dtype=tf.float64, name=None), 'attention_mask': TensorSpec(shape=(2, 512), dtype=tf.float64, name=None)}, TensorSpec(shape=(2, 3), dtype=tf.float64, name=None))>"
      ]
     },
     "execution_count": 36,
     "metadata": {},
     "output_type": "execute_result"
    }
   ],
   "source": [
    "dataset.take(1)"
   ]
  },
  {
   "cell_type": "code",
   "execution_count": 37,
   "id": "37f2f0f8",
   "metadata": {},
   "outputs": [],
   "source": [
    "from transformers import TFBertModel"
   ]
  },
  {
   "cell_type": "code",
   "execution_count": 38,
   "id": "a97b8d8e",
   "metadata": {},
   "outputs": [
    {
     "name": "stderr",
     "output_type": "stream",
     "text": [
      "Some layers from the model checkpoint at bert-base-cased were not used when initializing TFBertModel: ['nsp___cls', 'mlm___cls']\n",
      "- This IS expected if you are initializing TFBertModel from the checkpoint of a model trained on another task or with another architecture (e.g. initializing a BertForSequenceClassification model from a BertForPreTraining model).\n",
      "- This IS NOT expected if you are initializing TFBertModel from the checkpoint of a model that you expect to be exactly identical (initializing a BertForSequenceClassification model from a BertForSequenceClassification model).\n",
      "All the layers of TFBertModel were initialized from the model checkpoint at bert-base-cased.\n",
      "If your task is similar to the task the model of the checkpoint was trained on, you can already use TFBertModel for predictions without further training.\n"
     ]
    }
   ],
   "source": [
    "model = TFBertModel.from_pretrained('bert-base-cased') # bert base model with pretrained weights"
   ]
  },
  {
   "cell_type": "code",
   "execution_count": 39,
   "id": "f54b36f8",
   "metadata": {},
   "outputs": [
    {
     "name": "stdout",
     "output_type": "stream",
     "text": [
      "Model: \"model\"\n",
      "__________________________________________________________________________________________________\n",
      " Layer (type)                   Output Shape         Param #     Connected to                     \n",
      "==================================================================================================\n",
      " input_ids (InputLayer)         [(None, 512)]        0           []                               \n",
      "                                                                                                  \n",
      " attention_mask (InputLayer)    [(None, 512)]        0           []                               \n",
      "                                                                                                  \n",
      " bert (TFBertMainLayer)         TFBaseModelOutputWi  108310272   ['input_ids[0][0]',              \n",
      "                                thPoolingAndCrossAt               'attention_mask[0][0]']         \n",
      "                                tentions(last_hidde                                               \n",
      "                                n_state=(None, 512,                                               \n",
      "                                 768),                                                            \n",
      "                                 pooler_output=(Non                                               \n",
      "                                e, 768),                                                          \n",
      "                                 past_key_values=No                                               \n",
      "                                ne, hidden_states=N                                               \n",
      "                                one, attentions=Non                                               \n",
      "                                e, cross_attentions                                               \n",
      "                                =None)                                                            \n",
      "                                                                                                  \n",
      " intermediate_layer (Dense)     (None, 512)          393728      ['bert[0][1]']                   \n",
      "                                                                                                  \n",
      " output_layer (Dense)           (None, 3)            1539        ['intermediate_layer[0][0]']     \n",
      "                                                                                                  \n",
      "==================================================================================================\n",
      "Total params: 108,705,539\n",
      "Trainable params: 108,705,539\n",
      "Non-trainable params: 0\n",
      "__________________________________________________________________________________________________\n"
     ]
    }
   ],
   "source": [
    "# defining 2 input layers for input_ids and attn_masks\n",
    "input_ids = tf.keras.layers.Input(shape=(512,), name='input_ids', dtype='int32')\n",
    "attn_masks = tf.keras.layers.Input(shape=(512,), name='attention_mask', dtype='int32')\n",
    "\n",
    "bert_embds = model.bert(input_ids, attention_mask=attn_masks)[1] # 0 -> activation layer (3D), 1 -> pooled output layer (2D)\n",
    "intermediate_layer = tf.keras.layers.Dense(512, activation='relu', name='intermediate_layer')(bert_embds)\n",
    "output_layer = tf.keras.layers.Dense(3, activation='softmax', name='output_layer')(intermediate_layer) # softmax -> calcs probs of classes\n",
    "\n",
    "class_model = tf.keras.Model(inputs=[input_ids, attn_masks], outputs=output_layer)\n",
    "class_model.summary()"
   ]
  },
  {
   "cell_type": "code",
   "execution_count": 40,
   "id": "86e83956",
   "metadata": {},
   "outputs": [],
   "source": [
    "optim = tf.keras.optimizers.Adam(learning_rate=1e-5, decay=1e-6)\n",
    "loss_func = tf.keras.losses.CategoricalCrossentropy()\n",
    "acc = tf.keras.metrics.CategoricalAccuracy('accuracy')"
   ]
  },
  {
   "cell_type": "code",
   "execution_count": 41,
   "id": "9ab7f577",
   "metadata": {},
   "outputs": [],
   "source": [
    "class_model.compile(optimizer=optim, loss=loss_func, metrics=[acc])"
   ]
  },
  {
   "cell_type": "code",
   "execution_count": 42,
   "id": "f5492f33",
   "metadata": {},
   "outputs": [
    {
     "name": "stdout",
     "output_type": "stream",
     "text": [
      "Epoch 1/5\n"
     ]
    },
    {
     "name": "stderr",
     "output_type": "stream",
     "text": [
      "2022-11-28 11:18:06.634424: E tensorflow/core/framework/node_def_util.cc:630] NodeDef mentions attribute epsilon which is not in the op definition: Op<name=_MklFusedBatchMatMulV2; signature=x:T, y:T, args:num_args*T -> output:T; attr=T:type,allowed=[DT_BFLOAT16, DT_FLOAT]; attr=adj_x:bool,default=false; attr=adj_y:bool,default=false; attr=num_args:int,min=0; attr=fused_ops:list(string),default=[]> This may be expected if your graph generating binary is newer  than this binary. Unknown attributes will be ignored. NodeDef: {{node model/bert/encoder/layer_._0/attention/self/ArithmeticOptimizer/AddOpsRewrite_add_1}}\n"
     ]
    },
    {
     "name": "stdout",
     "output_type": "stream",
     "text": [
      "975/975 [==============================] - 6663s 7s/step - loss: 0.5046 - accuracy: 0.7990\n",
      "Epoch 2/5\n",
      "975/975 [==============================] - 6704s 7s/step - loss: 0.1878 - accuracy: 0.9431\n",
      "Epoch 3/5\n",
      "975/975 [==============================] - 7495s 8s/step - loss: 0.1095 - accuracy: 0.9744\n",
      "Epoch 4/5\n",
      "975/975 [==============================] - 9535s 10s/step - loss: 0.0955 - accuracy: 0.9728\n",
      "Epoch 5/5\n",
      "975/975 [==============================] - 63111s 65s/step - loss: 0.0842 - accuracy: 0.9764\n"
     ]
    }
   ],
   "source": [
    "hist = class_model.fit(train_dataset,validation_data=val_dataset,epochs=5)"
   ]
  },
  {
   "cell_type": "code",
   "execution_count": 43,
   "id": "e5b519fb",
   "metadata": {},
   "outputs": [
    {
     "name": "stderr",
     "output_type": "stream",
     "text": [
      "WARNING:absl:Found untraced functions such as embeddings_layer_call_fn, embeddings_layer_call_and_return_conditional_losses, encoder_layer_call_fn, encoder_layer_call_and_return_conditional_losses, pooler_layer_call_fn while saving (showing 5 of 420). These functions will not be directly callable after loading.\n"
     ]
    },
    {
     "name": "stdout",
     "output_type": "stream",
     "text": [
      "INFO:tensorflow:Assets written to: class_model_5/assets\n"
     ]
    },
    {
     "name": "stderr",
     "output_type": "stream",
     "text": [
      "INFO:tensorflow:Assets written to: class_model_5/assets\n"
     ]
    }
   ],
   "source": [
    "class_model.save('class_model_5')"
   ]
  },
  {
   "cell_type": "code",
   "execution_count": 1,
   "id": "05f1625f",
   "metadata": {},
   "outputs": [],
   "source": [
    "import pickle"
   ]
  },
  {
   "cell_type": "code",
   "execution_count": null,
   "id": "3cd5ef4c",
   "metadata": {},
   "outputs": [],
   "source": [
    "#save the model to disk\n",
    "filename = 'class_model_5.sav'\n",
    "pickle.dump(model, open(filename, 'wb'))\n",
    " \n",
    "# some time later...\n",
    " \n",
    "# load the model from disk\n",
    "#loaded_model = pickle.load(open(filename, 'rb'))\n",
    "#result = loaded_model.score(X_test, Y_test)\n",
    "#print(result)"
   ]
  },
  {
   "cell_type": "code",
   "execution_count": 5,
   "id": "ef1cc66e",
   "metadata": {},
   "outputs": [
    {
     "name": "stderr",
     "output_type": "stream",
     "text": [
      "2023-03-02 10:08:43.386433: W tensorflow/stream_executor/platform/default/dso_loader.cc:64] Could not load dynamic library 'libcuda.so.1'; dlerror: libcuda.so.1: cannot open shared object file: No such file or directory\n",
      "2023-03-02 10:08:43.386774: W tensorflow/stream_executor/cuda/cuda_driver.cc:269] failed call to cuInit: UNKNOWN ERROR (303)\n",
      "2023-03-02 10:08:43.386960: I tensorflow/stream_executor/cuda/cuda_diagnostics.cc:156] kernel driver does not appear to be running on this host (CLLAP-CHN-1343): /proc/driver/nvidia/version does not exist\n",
      "2023-03-02 10:08:43.388080: I tensorflow/core/platform/cpu_feature_guard.cc:193] This TensorFlow binary is optimized with oneAPI Deep Neural Network Library (oneDNN) to use the following CPU instructions in performance-critical operations:  AVX2 AVX512F AVX512_VNNI FMA\n",
      "To enable them in other operations, rebuild TensorFlow with the appropriate compiler flags.\n"
     ]
    }
   ],
   "source": [
    "class_model = pickle.load(open('class_model_5.sav', 'rb'))   ##tf.keras.models.load_model('class_model_5')\n",
    "\n",
    "tokenizer = BertTokenizer.from_pretrained('bert-base-cased')\n",
    "\n",
    "def prepare_data(input_text, tokenizer):\n",
    "    token = tokenizer.encode_plus(\n",
    "        input_text,\n",
    "        max_length=512, \n",
    "        truncation=True, \n",
    "        padding='max_length',  \n",
    "        add_special_tokens=True,\n",
    "        return_tensors='tf'\n",
    "    )\n",
    "    return {\n",
    "        'input_ids': tf.cast(token.input_ids, tf.float64),\n",
    "        'attention_mask': tf.cast(token.attention_mask, tf.float64)\n",
    "    }\n",
    "\n",
    "def make_prediction(model, processed_data, classes=['pre_sale', 'oth', 'post_sale']):\n",
    "    probs = model.predict(processed_data)[0]\n",
    "    return classes[np.argmax(probs)]\n"
   ]
  },
  {
   "cell_type": "code",
   "execution_count": 45,
   "id": "983dbe9c",
   "metadata": {},
   "outputs": [],
   "source": [
    "input_text = 'Conversation was marked resolved by Sudhanshu  Panda'"
   ]
  },
  {
   "cell_type": "code",
   "execution_count": 46,
   "id": "605a7d78",
   "metadata": {},
   "outputs": [
    {
     "name": "stdout",
     "output_type": "stream",
     "text": [
      "1/1 [==============================] - 2s 2s/step\n",
      "Predicted Class: oth\n"
     ]
    }
   ],
   "source": [
    "#input_text = input('Enter text here: ')\n",
    "processed_data = prepare_data(input_text, tokenizer)\n",
    "result = make_prediction(class_model, processed_data=processed_data)\n",
    "print(f\"Predicted Class: {result}\")"
   ]
  },
  {
   "cell_type": "code",
   "execution_count": 6,
   "id": "f49d4ac9",
   "metadata": {},
   "outputs": [],
   "source": [
    "def createdataframe(filepath):\n",
    "    df = pd.read_excel(filepath)\n",
    "    df = preprocess(df)\n",
    "    df['tag']=''\n",
    "    return df\n",
    "def predict(input_text):\n",
    "    processed_data = prepare_data(input_text, tokenizer)\n",
    "    result = make_prediction(class_model, processed_data=processed_data)\n",
    "    return result"
   ]
  },
  {
   "cell_type": "code",
   "execution_count": 30,
   "id": "eaa31a32",
   "metadata": {},
   "outputs": [],
   "source": [
    "df = createdataframe('/home/ameer/Documents/pre-post-sale/subtags_output6.xlsx')"
   ]
  },
  {
   "cell_type": "code",
   "execution_count": 31,
   "id": "b708bbae",
   "metadata": {},
   "outputs": [],
   "source": [
    "import swifter"
   ]
  },
  {
   "cell_type": "code",
   "execution_count": 32,
   "id": "496a0483",
   "metadata": {},
   "outputs": [
    {
     "data": {
      "application/vnd.jupyter.widget-view+json": {
       "model_id": "ac2abd5822614828a1f8a657c64c9e73",
       "version_major": 2,
       "version_minor": 0
      },
      "text/plain": [
       "Pandas Apply:   0%|          | 0/400 [00:00<?, ?it/s]"
      ]
     },
     "metadata": {},
     "output_type": "display_data"
    },
    {
     "name": "stdout",
     "output_type": "stream",
     "text": [
      "1/1 [==============================] - 1s 889ms/step\n",
      "1/1 [==============================] - 1s 898ms/step\n",
      "1/1 [==============================] - 1s 922ms/step\n",
      "1/1 [==============================] - 1s 918ms/step\n",
      "1/1 [==============================] - 1s 924ms/step\n",
      "1/1 [==============================] - 1s 898ms/step\n",
      "1/1 [==============================] - 1s 926ms/step\n",
      "1/1 [==============================] - 1s 916ms/step\n",
      "1/1 [==============================] - 1s 905ms/step\n",
      "1/1 [==============================] - 1s 925ms/step\n",
      "1/1 [==============================] - 1s 1s/step\n",
      "1/1 [==============================] - 1s 913ms/step\n",
      "1/1 [==============================] - 1s 926ms/step\n",
      "1/1 [==============================] - 1s 910ms/step\n",
      "1/1 [==============================] - 1s 915ms/step\n",
      "1/1 [==============================] - 1s 909ms/step\n",
      "1/1 [==============================] - 1s 914ms/step\n",
      "1/1 [==============================] - 1s 915ms/step\n",
      "1/1 [==============================] - 1s 913ms/step\n",
      "1/1 [==============================] - 1s 916ms/step\n",
      "1/1 [==============================] - 1s 911ms/step\n",
      "1/1 [==============================] - 1s 923ms/step\n",
      "1/1 [==============================] - 1s 978ms/step\n",
      "1/1 [==============================] - 1s 911ms/step\n",
      "1/1 [==============================] - 1s 920ms/step\n",
      "1/1 [==============================] - 1s 906ms/step\n",
      "1/1 [==============================] - 1s 956ms/step\n",
      "1/1 [==============================] - 1s 909ms/step\n",
      "1/1 [==============================] - 1s 925ms/step\n",
      "1/1 [==============================] - 1s 911ms/step\n",
      "1/1 [==============================] - 1s 1s/step\n",
      "1/1 [==============================] - 1s 1s/step\n",
      "1/1 [==============================] - 1s 1s/step\n",
      "1/1 [==============================] - 1s 1s/step\n",
      "1/1 [==============================] - 1s 928ms/step\n",
      "1/1 [==============================] - 1s 962ms/step\n",
      "1/1 [==============================] - 1s 915ms/step\n",
      "1/1 [==============================] - 1s 962ms/step\n",
      "1/1 [==============================] - 1s 1s/step\n",
      "1/1 [==============================] - 1s 942ms/step\n",
      "1/1 [==============================] - 1s 918ms/step\n",
      "1/1 [==============================] - 1s 901ms/step\n",
      "1/1 [==============================] - 1s 906ms/step\n",
      "1/1 [==============================] - 1s 910ms/step\n",
      "1/1 [==============================] - 1s 918ms/step\n",
      "1/1 [==============================] - 1s 899ms/step\n",
      "1/1 [==============================] - 1s 917ms/step\n",
      "1/1 [==============================] - 1s 921ms/step\n",
      "1/1 [==============================] - 1s 907ms/step\n",
      "1/1 [==============================] - 1s 930ms/step\n",
      "1/1 [==============================] - 1s 910ms/step\n",
      "1/1 [==============================] - 1s 899ms/step\n",
      "1/1 [==============================] - 1s 903ms/step\n",
      "1/1 [==============================] - 1s 908ms/step\n",
      "1/1 [==============================] - 1s 913ms/step\n",
      "1/1 [==============================] - 1s 900ms/step\n",
      "1/1 [==============================] - 1s 912ms/step\n",
      "1/1 [==============================] - 1s 910ms/step\n",
      "1/1 [==============================] - 1s 920ms/step\n",
      "1/1 [==============================] - 1s 911ms/step\n",
      "1/1 [==============================] - 1s 910ms/step\n",
      "1/1 [==============================] - 1s 929ms/step\n",
      "1/1 [==============================] - 1s 901ms/step\n",
      "1/1 [==============================] - 1s 916ms/step\n",
      "1/1 [==============================] - 1s 913ms/step\n",
      "1/1 [==============================] - 1s 917ms/step\n",
      "1/1 [==============================] - 1s 912ms/step\n",
      "1/1 [==============================] - 1s 898ms/step\n",
      "1/1 [==============================] - 1s 904ms/step\n",
      "1/1 [==============================] - 1s 915ms/step\n",
      "1/1 [==============================] - 1s 899ms/step\n",
      "1/1 [==============================] - 1s 911ms/step\n",
      "1/1 [==============================] - 1s 909ms/step\n",
      "1/1 [==============================] - 1s 911ms/step\n",
      "1/1 [==============================] - 1s 919ms/step\n",
      "1/1 [==============================] - 1s 907ms/step\n",
      "1/1 [==============================] - 1s 904ms/step\n",
      "1/1 [==============================] - 1s 920ms/step\n",
      "1/1 [==============================] - 1s 908ms/step\n",
      "1/1 [==============================] - 1s 918ms/step\n",
      "1/1 [==============================] - 1s 912ms/step\n",
      "1/1 [==============================] - 1s 922ms/step\n",
      "1/1 [==============================] - 1s 962ms/step\n",
      "1/1 [==============================] - 1s 913ms/step\n",
      "1/1 [==============================] - 1s 915ms/step\n",
      "1/1 [==============================] - 1s 897ms/step\n",
      "1/1 [==============================] - 1s 904ms/step\n",
      "1/1 [==============================] - 1s 941ms/step\n",
      "1/1 [==============================] - 1s 909ms/step\n",
      "1/1 [==============================] - 1s 910ms/step\n",
      "1/1 [==============================] - 1s 915ms/step\n",
      "1/1 [==============================] - 1s 920ms/step\n",
      "1/1 [==============================] - 1s 908ms/step\n",
      "1/1 [==============================] - 1s 913ms/step\n",
      "1/1 [==============================] - 1s 919ms/step\n",
      "1/1 [==============================] - 1s 897ms/step\n",
      "1/1 [==============================] - 1s 920ms/step\n",
      "1/1 [==============================] - 1s 921ms/step\n",
      "1/1 [==============================] - 1s 904ms/step\n",
      "1/1 [==============================] - 1s 914ms/step\n",
      "1/1 [==============================] - 1s 908ms/step\n",
      "1/1 [==============================] - 1s 905ms/step\n",
      "1/1 [==============================] - 1s 908ms/step\n",
      "1/1 [==============================] - 1s 900ms/step\n",
      "1/1 [==============================] - 1s 992ms/step\n",
      "1/1 [==============================] - 1s 928ms/step\n",
      "1/1 [==============================] - 1s 918ms/step\n",
      "1/1 [==============================] - 1s 909ms/step\n",
      "1/1 [==============================] - 1s 919ms/step\n",
      "1/1 [==============================] - 1s 902ms/step\n",
      "1/1 [==============================] - 1s 936ms/step\n",
      "1/1 [==============================] - 1s 922ms/step\n",
      "1/1 [==============================] - 1s 909ms/step\n",
      "1/1 [==============================] - 1s 920ms/step\n",
      "1/1 [==============================] - 1s 904ms/step\n",
      "1/1 [==============================] - 1s 913ms/step\n",
      "1/1 [==============================] - 1s 922ms/step\n",
      "1/1 [==============================] - 1s 907ms/step\n",
      "1/1 [==============================] - 1s 907ms/step\n",
      "1/1 [==============================] - 1s 913ms/step\n",
      "1/1 [==============================] - 1s 904ms/step\n",
      "1/1 [==============================] - 1s 919ms/step\n",
      "1/1 [==============================] - 1s 916ms/step\n",
      "1/1 [==============================] - 1s 919ms/step\n",
      "1/1 [==============================] - 1s 899ms/step\n",
      "1/1 [==============================] - 1s 917ms/step\n",
      "1/1 [==============================] - 1s 912ms/step\n",
      "1/1 [==============================] - 1s 908ms/step\n",
      "1/1 [==============================] - 1s 910ms/step\n",
      "1/1 [==============================] - 1s 898ms/step\n",
      "1/1 [==============================] - 1s 1s/step\n",
      "1/1 [==============================] - 1s 901ms/step\n",
      "1/1 [==============================] - 1s 937ms/step\n",
      "1/1 [==============================] - 1s 919ms/step\n",
      "1/1 [==============================] - 1s 921ms/step\n",
      "1/1 [==============================] - 1s 909ms/step\n",
      "1/1 [==============================] - 1s 918ms/step\n",
      "1/1 [==============================] - 1s 917ms/step\n",
      "1/1 [==============================] - 1s 907ms/step\n",
      "1/1 [==============================] - 1s 911ms/step\n",
      "1/1 [==============================] - 1s 892ms/step\n",
      "1/1 [==============================] - 1s 914ms/step\n",
      "1/1 [==============================] - 1s 902ms/step\n",
      "1/1 [==============================] - 1s 933ms/step\n",
      "1/1 [==============================] - 1s 910ms/step\n",
      "1/1 [==============================] - 1s 906ms/step\n",
      "1/1 [==============================] - 1s 915ms/step\n",
      "1/1 [==============================] - 1s 909ms/step\n",
      "1/1 [==============================] - 1s 953ms/step\n",
      "1/1 [==============================] - 1s 928ms/step\n",
      "1/1 [==============================] - 1s 915ms/step\n",
      "1/1 [==============================] - 1s 914ms/step\n",
      "1/1 [==============================] - 1s 914ms/step\n",
      "1/1 [==============================] - 1s 919ms/step\n",
      "1/1 [==============================] - 1s 909ms/step\n"
     ]
    },
    {
     "name": "stdout",
     "output_type": "stream",
     "text": [
      "1/1 [==============================] - 1s 896ms/step\n",
      "1/1 [==============================] - 1s 907ms/step\n",
      "1/1 [==============================] - 1s 912ms/step\n",
      "1/1 [==============================] - 1s 904ms/step\n",
      "1/1 [==============================] - 1s 899ms/step\n",
      "1/1 [==============================] - 1s 921ms/step\n",
      "1/1 [==============================] - 1s 922ms/step\n",
      "1/1 [==============================] - 1s 910ms/step\n",
      "1/1 [==============================] - 1s 901ms/step\n",
      "1/1 [==============================] - 1s 911ms/step\n",
      "1/1 [==============================] - 1s 900ms/step\n",
      "1/1 [==============================] - 1s 916ms/step\n",
      "1/1 [==============================] - 1s 898ms/step\n",
      "1/1 [==============================] - 1s 928ms/step\n",
      "1/1 [==============================] - 1s 909ms/step\n",
      "1/1 [==============================] - 1s 903ms/step\n",
      "1/1 [==============================] - 1s 917ms/step\n",
      "1/1 [==============================] - 1s 911ms/step\n",
      "1/1 [==============================] - 1s 907ms/step\n",
      "1/1 [==============================] - 1s 915ms/step\n",
      "1/1 [==============================] - 1s 904ms/step\n",
      "1/1 [==============================] - 1s 919ms/step\n",
      "1/1 [==============================] - 1s 897ms/step\n",
      "1/1 [==============================] - 1s 911ms/step\n",
      "1/1 [==============================] - 1s 662ms/step\n",
      "1/1 [==============================] - 1s 859ms/step\n",
      "1/1 [==============================] - 1s 898ms/step\n",
      "1/1 [==============================] - 1s 902ms/step\n",
      "1/1 [==============================] - 1s 911ms/step\n",
      "1/1 [==============================] - 1s 913ms/step\n",
      "1/1 [==============================] - 1s 905ms/step\n",
      "1/1 [==============================] - 1s 909ms/step\n",
      "1/1 [==============================] - 1s 906ms/step\n",
      "1/1 [==============================] - 1s 915ms/step\n",
      "1/1 [==============================] - 1s 920ms/step\n",
      "1/1 [==============================] - 1s 909ms/step\n",
      "1/1 [==============================] - 1s 905ms/step\n",
      "1/1 [==============================] - 1s 917ms/step\n",
      "1/1 [==============================] - 1s 919ms/step\n",
      "1/1 [==============================] - 1s 899ms/step\n",
      "1/1 [==============================] - 1s 924ms/step\n",
      "1/1 [==============================] - 1s 911ms/step\n",
      "1/1 [==============================] - 1s 919ms/step\n",
      "1/1 [==============================] - 1s 907ms/step\n",
      "1/1 [==============================] - 1s 914ms/step\n",
      "1/1 [==============================] - 1s 910ms/step\n",
      "1/1 [==============================] - 1s 910ms/step\n",
      "1/1 [==============================] - 1s 923ms/step\n",
      "1/1 [==============================] - 1s 900ms/step\n",
      "1/1 [==============================] - 1s 917ms/step\n",
      "1/1 [==============================] - 1s 907ms/step\n",
      "1/1 [==============================] - 1s 908ms/step\n",
      "1/1 [==============================] - 1s 914ms/step\n",
      "1/1 [==============================] - 1s 919ms/step\n",
      "1/1 [==============================] - 1s 918ms/step\n",
      "1/1 [==============================] - 1s 904ms/step\n",
      "1/1 [==============================] - 1s 912ms/step\n",
      "1/1 [==============================] - 1s 915ms/step\n",
      "1/1 [==============================] - 1s 902ms/step\n",
      "1/1 [==============================] - 1s 921ms/step\n",
      "1/1 [==============================] - 1s 904ms/step\n",
      "1/1 [==============================] - 1s 915ms/step\n",
      "1/1 [==============================] - 1s 913ms/step\n",
      "1/1 [==============================] - 1s 921ms/step\n",
      "1/1 [==============================] - 1s 906ms/step\n",
      "1/1 [==============================] - 1s 916ms/step\n",
      "1/1 [==============================] - 1s 896ms/step\n",
      "1/1 [==============================] - 1s 908ms/step\n",
      "1/1 [==============================] - 1s 917ms/step\n",
      "1/1 [==============================] - 1s 922ms/step\n",
      "1/1 [==============================] - 1s 910ms/step\n",
      "1/1 [==============================] - 1s 907ms/step\n",
      "1/1 [==============================] - 1s 931ms/step\n",
      "1/1 [==============================] - 1s 909ms/step\n",
      "1/1 [==============================] - 1s 910ms/step\n",
      "1/1 [==============================] - 1s 907ms/step\n",
      "1/1 [==============================] - 1s 914ms/step\n",
      "1/1 [==============================] - 1s 915ms/step\n",
      "1/1 [==============================] - 1s 915ms/step\n",
      "1/1 [==============================] - 1s 921ms/step\n",
      "1/1 [==============================] - 1s 908ms/step\n",
      "1/1 [==============================] - 1s 923ms/step\n",
      "1/1 [==============================] - 1s 900ms/step\n",
      "1/1 [==============================] - 1s 907ms/step\n",
      "1/1 [==============================] - 1s 914ms/step\n",
      "1/1 [==============================] - 1s 906ms/step\n",
      "1/1 [==============================] - 1s 915ms/step\n",
      "1/1 [==============================] - 1s 927ms/step\n",
      "1/1 [==============================] - 1s 917ms/step\n",
      "1/1 [==============================] - 1s 933ms/step\n",
      "1/1 [==============================] - 1s 920ms/step\n",
      "1/1 [==============================] - 1s 909ms/step\n",
      "1/1 [==============================] - 1s 913ms/step\n",
      "1/1 [==============================] - 1s 910ms/step\n",
      "1/1 [==============================] - 1s 906ms/step\n",
      "1/1 [==============================] - 1s 921ms/step\n",
      "1/1 [==============================] - 1s 906ms/step\n",
      "1/1 [==============================] - 1s 986ms/step\n",
      "1/1 [==============================] - 1s 917ms/step\n",
      "1/1 [==============================] - 1s 938ms/step\n",
      "1/1 [==============================] - 1s 914ms/step\n",
      "1/1 [==============================] - 1s 911ms/step\n",
      "1/1 [==============================] - 1s 883ms/step\n",
      "1/1 [==============================] - 1s 902ms/step\n",
      "1/1 [==============================] - 1s 968ms/step\n",
      "1/1 [==============================] - 1s 1s/step\n",
      "1/1 [==============================] - 1s 993ms/step\n",
      "1/1 [==============================] - 1s 993ms/step\n",
      "1/1 [==============================] - 1s 986ms/step\n",
      "1/1 [==============================] - 1s 981ms/step\n",
      "1/1 [==============================] - 1s 1s/step\n",
      "1/1 [==============================] - 1s 912ms/step\n",
      "1/1 [==============================] - 1s 907ms/step\n",
      "1/1 [==============================] - 1s 922ms/step\n",
      "1/1 [==============================] - 1s 920ms/step\n",
      "1/1 [==============================] - 1s 931ms/step\n",
      "1/1 [==============================] - 1s 918ms/step\n",
      "1/1 [==============================] - 1s 915ms/step\n",
      "1/1 [==============================] - 1s 904ms/step\n",
      "1/1 [==============================] - 1s 911ms/step\n",
      "1/1 [==============================] - 1s 908ms/step\n",
      "1/1 [==============================] - 1s 918ms/step\n",
      "1/1 [==============================] - 1s 912ms/step\n",
      "1/1 [==============================] - 1s 906ms/step\n",
      "1/1 [==============================] - 1s 931ms/step\n",
      "1/1 [==============================] - 1s 902ms/step\n",
      "1/1 [==============================] - 1s 909ms/step\n",
      "1/1 [==============================] - 1s 923ms/step\n",
      "1/1 [==============================] - 1s 892ms/step\n",
      "1/1 [==============================] - 1s 907ms/step\n",
      "1/1 [==============================] - 1s 911ms/step\n",
      "1/1 [==============================] - 1s 922ms/step\n",
      "1/1 [==============================] - 1s 907ms/step\n",
      "1/1 [==============================] - 1s 911ms/step\n",
      "1/1 [==============================] - 1s 923ms/step\n",
      "1/1 [==============================] - 1s 907ms/step\n",
      "1/1 [==============================] - 1s 915ms/step\n",
      "1/1 [==============================] - 1s 920ms/step\n",
      "1/1 [==============================] - 1s 908ms/step\n",
      "1/1 [==============================] - 1s 912ms/step\n",
      "1/1 [==============================] - 1s 899ms/step\n",
      "1/1 [==============================] - 1s 909ms/step\n",
      "1/1 [==============================] - 1s 917ms/step\n",
      "1/1 [==============================] - 1s 906ms/step\n",
      "1/1 [==============================] - 1s 906ms/step\n",
      "1/1 [==============================] - 1s 920ms/step\n",
      "1/1 [==============================] - 1s 919ms/step\n",
      "1/1 [==============================] - 1s 902ms/step\n",
      "1/1 [==============================] - 1s 914ms/step\n",
      "1/1 [==============================] - 1s 913ms/step\n",
      "1/1 [==============================] - 1s 910ms/step\n",
      "1/1 [==============================] - 1s 905ms/step\n",
      "1/1 [==============================] - 1s 923ms/step\n",
      "1/1 [==============================] - 1s 905ms/step\n",
      "1/1 [==============================] - 1s 919ms/step\n",
      "1/1 [==============================] - 1s 902ms/step\n",
      "1/1 [==============================] - 1s 902ms/step\n",
      "1/1 [==============================] - 1s 914ms/step\n",
      "1/1 [==============================] - 1s 903ms/step\n",
      "1/1 [==============================] - 1s 923ms/step\n",
      "1/1 [==============================] - 1s 911ms/step\n",
      "1/1 [==============================] - 1s 899ms/step\n",
      "1/1 [==============================] - 1s 907ms/step\n",
      "1/1 [==============================] - 1s 919ms/step\n",
      "1/1 [==============================] - 1s 925ms/step\n",
      "1/1 [==============================] - 1s 898ms/step\n",
      "1/1 [==============================] - 1s 903ms/step\n",
      "1/1 [==============================] - 1s 914ms/step\n",
      "1/1 [==============================] - 1s 916ms/step\n",
      "1/1 [==============================] - 1s 907ms/step\n",
      "1/1 [==============================] - 1s 901ms/step\n",
      "1/1 [==============================] - 1s 899ms/step\n",
      "1/1 [==============================] - 1s 915ms/step\n",
      "1/1 [==============================] - 1s 899ms/step\n",
      "1/1 [==============================] - 1s 905ms/step\n",
      "1/1 [==============================] - 1s 900ms/step\n",
      "1/1 [==============================] - 1s 913ms/step\n",
      "1/1 [==============================] - 1s 909ms/step\n",
      "1/1 [==============================] - 1s 913ms/step\n",
      "1/1 [==============================] - 1s 902ms/step\n",
      "1/1 [==============================] - 1s 912ms/step\n",
      "1/1 [==============================] - 1s 906ms/step\n",
      "1/1 [==============================] - 1s 924ms/step\n",
      "1/1 [==============================] - 1s 898ms/step\n",
      "1/1 [==============================] - 1s 912ms/step\n",
      "1/1 [==============================] - 1s 920ms/step\n",
      "1/1 [==============================] - 1s 901ms/step\n",
      "1/1 [==============================] - 1s 920ms/step\n",
      "1/1 [==============================] - 1s 902ms/step\n",
      "1/1 [==============================] - 1s 898ms/step\n",
      "1/1 [==============================] - 1s 913ms/step\n",
      "1/1 [==============================] - 1s 892ms/step\n",
      "1/1 [==============================] - 1s 912ms/step\n",
      "1/1 [==============================] - 1s 916ms/step\n",
      "1/1 [==============================] - 1s 918ms/step\n",
      "1/1 [==============================] - 1s 898ms/step\n",
      "1/1 [==============================] - 1s 917ms/step\n",
      "1/1 [==============================] - 1s 908ms/step\n",
      "1/1 [==============================] - 1s 922ms/step\n",
      "1/1 [==============================] - 1s 887ms/step\n",
      "1/1 [==============================] - 1s 909ms/step\n",
      "1/1 [==============================] - 1s 896ms/step\n",
      "1/1 [==============================] - 1s 914ms/step\n",
      "1/1 [==============================] - 1s 905ms/step\n",
      "1/1 [==============================] - 1s 900ms/step\n",
      "1/1 [==============================] - 1s 918ms/step\n",
      "1/1 [==============================] - 1s 906ms/step\n",
      "1/1 [==============================] - 1s 905ms/step\n",
      "1/1 [==============================] - 1s 906ms/step\n",
      "1/1 [==============================] - 1s 901ms/step\n",
      "1/1 [==============================] - 1s 911ms/step\n",
      "1/1 [==============================] - 1s 913ms/step\n",
      "1/1 [==============================] - 1s 902ms/step\n",
      "1/1 [==============================] - 1s 896ms/step\n",
      "1/1 [==============================] - 1s 911ms/step\n",
      "1/1 [==============================] - 1s 906ms/step\n",
      "1/1 [==============================] - 1s 913ms/step\n",
      "1/1 [==============================] - 1s 910ms/step\n",
      "1/1 [==============================] - 1s 994ms/step\n",
      "1/1 [==============================] - 1s 923ms/step\n",
      "1/1 [==============================] - 1s 932ms/step\n",
      "1/1 [==============================] - 1s 896ms/step\n",
      "1/1 [==============================] - 1s 925ms/step\n",
      "1/1 [==============================] - 1s 896ms/step\n",
      "1/1 [==============================] - 1s 915ms/step\n",
      "1/1 [==============================] - 1s 901ms/step\n",
      "1/1 [==============================] - 1s 917ms/step\n",
      "1/1 [==============================] - 1s 891ms/step\n",
      "1/1 [==============================] - 1s 905ms/step\n",
      "1/1 [==============================] - 1s 908ms/step\n",
      "1/1 [==============================] - 1s 917ms/step\n",
      "1/1 [==============================] - 1s 900ms/step\n",
      "1/1 [==============================] - 1s 909ms/step\n",
      "1/1 [==============================] - 1s 899ms/step\n",
      "1/1 [==============================] - 1s 911ms/step\n",
      "1/1 [==============================] - 1s 913ms/step\n",
      "1/1 [==============================] - 1s 908ms/step\n",
      "1/1 [==============================] - 1s 909ms/step\n",
      "1/1 [==============================] - 1s 922ms/step\n",
      "1/1 [==============================] - 1s 901ms/step\n",
      "1/1 [==============================] - 1s 909ms/step\n",
      "1/1 [==============================] - 1s 920ms/step\n",
      "1/1 [==============================] - 1s 897ms/step\n",
      "1/1 [==============================] - 1s 906ms/step\n",
      "1/1 [==============================] - 1s 906ms/step\n"
     ]
    }
   ],
   "source": [
    "df['tag'] = df['conversations_content'].swifter.apply(lambda x: predict(x))"
   ]
  },
  {
   "cell_type": "code",
   "execution_count": 16,
   "id": "9ff005ac",
   "metadata": {},
   "outputs": [
    {
     "data": {
      "text/html": [
       "<div>\n",
       "<style scoped>\n",
       "    .dataframe tbody tr th:only-of-type {\n",
       "        vertical-align: middle;\n",
       "    }\n",
       "\n",
       "    .dataframe tbody tr th {\n",
       "        vertical-align: top;\n",
       "    }\n",
       "\n",
       "    .dataframe thead th {\n",
       "        text-align: right;\n",
       "    }\n",
       "</style>\n",
       "<table border=\"1\" class=\"dataframe\">\n",
       "  <thead>\n",
       "    <tr style=\"text-align: right;\">\n",
       "      <th></th>\n",
       "      <th>Unnamed: 0.1</th>\n",
       "      <th>Unnamed: 0</th>\n",
       "      <th>customer_id</th>\n",
       "      <th>conversation_id</th>\n",
       "      <th>interaction_id</th>\n",
       "      <th>chat_id</th>\n",
       "      <th>actor_type</th>\n",
       "      <th>created_time</th>\n",
       "      <th>resolved</th>\n",
       "      <th>channel_id</th>\n",
       "      <th>message_parts</th>\n",
       "      <th>conversations_content</th>\n",
       "      <th>content_array</th>\n",
       "      <th>subtag</th>\n",
       "      <th>tag</th>\n",
       "    </tr>\n",
       "  </thead>\n",
       "  <tbody>\n",
       "    <tr>\n",
       "      <th>0</th>\n",
       "      <td>0</td>\n",
       "      <td>111675</td>\n",
       "      <td>B471593D-FD91-45F9-A113-3A4943C9C423</td>\n",
       "      <td>8cbffe26-78d6-4587-8c01-8fe533c05d9b</td>\n",
       "      <td>8cbffe26-78d6-4587-8c01-8fe533c05d9b-167637584...</td>\n",
       "      <td>e94b0806-b9c6-48f4-b5fc-c973cedb0221</td>\n",
       "      <td>agent</td>\n",
       "      <td>2023-02-14 14:49:13.394</td>\n",
       "      <td>1</td>\n",
       "      <td>d86f499f-092b-4531-8803-608686e36869</td>\n",
       "      <td>Conversation was marked resolved by Neel B</td>\n",
       "      <td>Hi Conversation was assigned to Harsh Mehta by...</td>\n",
       "      <td>[{'visitor:Hi'}, {'agent:Conversation was assi...</td>\n",
       "      <td>price break up</td>\n",
       "      <td>pre_sale</td>\n",
       "    </tr>\n",
       "    <tr>\n",
       "      <th>1</th>\n",
       "      <td>1</td>\n",
       "      <td>107268</td>\n",
       "      <td>39ba1416-be75-4b43-8e66-ea2efd9e587f</td>\n",
       "      <td>a05d1a64-7b5e-436c-b960-c6c6f0cb62b3</td>\n",
       "      <td>a05d1a64-7b5e-436c-b960-c6c6f0cb62b3-167636493...</td>\n",
       "      <td>9a16286c-b560-42ea-b359-c1219105a416</td>\n",
       "      <td>agent</td>\n",
       "      <td>2023-02-14 14:47:29.256</td>\n",
       "      <td>1</td>\n",
       "      <td>d86f499f-092b-4531-8803-608686e36869</td>\n",
       "      <td>Conversation was marked resolved by Priyanka B...</td>\n",
       "      <td>Conversation was reopened by Mainak Mallick hi...</td>\n",
       "      <td>[{'visitor:Conversation was reopened by Mainak...</td>\n",
       "      <td>none</td>\n",
       "      <td>oth</td>\n",
       "    </tr>\n",
       "    <tr>\n",
       "      <th>2</th>\n",
       "      <td>2</td>\n",
       "      <td>70682</td>\n",
       "      <td>20908797-e4f2-4482-803f-9bd8cd073c75</td>\n",
       "      <td>f6df81b5-580d-4c52-bb64-f4694b3542dc</td>\n",
       "      <td>f6df81b5-580d-4c52-bb64-f4694b3542dc-167638488...</td>\n",
       "      <td>31988e72-62f4-46e0-aacd-ec84e8a3cce5</td>\n",
       "      <td>agent</td>\n",
       "      <td>2023-02-14 14:45:41.184</td>\n",
       "      <td>1</td>\n",
       "      <td>1925a070-b98f-4ab3-9812-50fe474f0b48</td>\n",
       "      <td>Conversation was marked resolved by Saba  Shaikh</td>\n",
       "      <td>Hi Pallavi pallavi.pnd@gmail.com +918120386208...</td>\n",
       "      <td>[{'visitor:Hi'}, {'visitor:Pallavi'}, {'visito...</td>\n",
       "      <td>jewellery selection</td>\n",
       "      <td>pre_sale</td>\n",
       "    </tr>\n",
       "    <tr>\n",
       "      <th>3</th>\n",
       "      <td>3</td>\n",
       "      <td>26678</td>\n",
       "      <td>DE5BC928-21B2-4FE8-89EC-16CE41C1558B</td>\n",
       "      <td>cc7aa350-405d-4daa-ae87-958c3886587b</td>\n",
       "      <td>cc7aa350-405d-4daa-ae87-958c3886587b-167638293...</td>\n",
       "      <td>6b846b8a-087b-4e86-832e-8d0b581580b2</td>\n",
       "      <td>agent</td>\n",
       "      <td>2023-02-14 14:45:36.089</td>\n",
       "      <td>1</td>\n",
       "      <td>1925a070-b98f-4ab3-9812-50fe474f0b48</td>\n",
       "      <td>Conversation was marked resolved by Priyanka B...</td>\n",
       "      <td>Hi Conversation was assigned to Priyanka Biswa...</td>\n",
       "      <td>[{'visitor:Hi'}, {'agent:Conversation was assi...</td>\n",
       "      <td>none</td>\n",
       "      <td>oth</td>\n",
       "    </tr>\n",
       "    <tr>\n",
       "      <th>4</th>\n",
       "      <td>4</td>\n",
       "      <td>74837</td>\n",
       "      <td>d677bd69-94f0-44a7-9cd5-888f5799cad1</td>\n",
       "      <td>f2b28644-c8aa-406f-b130-d20562c6691c</td>\n",
       "      <td>f2b28644-c8aa-406f-b130-d20562c6691c-167637877...</td>\n",
       "      <td>7f1d6cb4-ff69-4d9c-928a-3dc26e8432ad</td>\n",
       "      <td>agent</td>\n",
       "      <td>2023-02-14 14:27:06.317</td>\n",
       "      <td>1</td>\n",
       "      <td>1925a070-b98f-4ab3-9812-50fe474f0b48</td>\n",
       "      <td>Conversation was marked resolved by Mohammed A</td>\n",
       "      <td>Hii Rejeena rejeenajoy99@gmail.com 8893620820 ...</td>\n",
       "      <td>[{'visitor:Hii'}, {'visitor:Rejeena'}, {'visit...</td>\n",
       "      <td>Lifetime exchange</td>\n",
       "      <td>pre_sale</td>\n",
       "    </tr>\n",
       "    <tr>\n",
       "      <th>...</th>\n",
       "      <td>...</td>\n",
       "      <td>...</td>\n",
       "      <td>...</td>\n",
       "      <td>...</td>\n",
       "      <td>...</td>\n",
       "      <td>...</td>\n",
       "      <td>...</td>\n",
       "      <td>...</td>\n",
       "      <td>...</td>\n",
       "      <td>...</td>\n",
       "      <td>...</td>\n",
       "      <td>...</td>\n",
       "      <td>...</td>\n",
       "      <td>...</td>\n",
       "      <td>...</td>\n",
       "    </tr>\n",
       "    <tr>\n",
       "      <th>195</th>\n",
       "      <td>195</td>\n",
       "      <td>83512</td>\n",
       "      <td>54317279-F35E-4D72-BD1C-CEABB4D3EED1</td>\n",
       "      <td>109e5ff6-4db1-44a8-b39f-b501b7ffaf0b</td>\n",
       "      <td>109e5ff6-4db1-44a8-b39f-b501b7ffaf0b-167628832...</td>\n",
       "      <td>56b67fc5-0a97-4b01-98d5-ad0d365e9360</td>\n",
       "      <td>agent</td>\n",
       "      <td>2023-02-13 12:43:11.000</td>\n",
       "      <td>1</td>\n",
       "      <td>d86f499f-092b-4531-8803-608686e36869</td>\n",
       "      <td>Conversation was marked resolved by Salma S</td>\n",
       "      <td>Conversation was reopened by Deeba Farah When ...</td>\n",
       "      <td>[{'visitor:Conversation was reopened by Deeba ...</td>\n",
       "      <td>Lifetime exchange</td>\n",
       "      <td>post_sale</td>\n",
       "    </tr>\n",
       "    <tr>\n",
       "      <th>196</th>\n",
       "      <td>196</td>\n",
       "      <td>41321</td>\n",
       "      <td>b0239c90-d470-431e-96de-6d620f6a9df5</td>\n",
       "      <td>8da5e35c-114e-4c3e-bfb3-4f5f82e4aede</td>\n",
       "      <td>8da5e35c-114e-4c3e-bfb3-4f5f82e4aede-167622149...</td>\n",
       "      <td>37d8cb06-6ead-46da-ae5b-c81cf69fb8e6</td>\n",
       "      <td>agent</td>\n",
       "      <td>2023-02-13 12:42:46.442</td>\n",
       "      <td>1</td>\n",
       "      <td>d86f499f-092b-4531-8803-608686e36869</td>\n",
       "      <td>Conversation was marked resolved by Apurva Shetty</td>\n",
       "      <td>i order another ring in exchange of this broke...</td>\n",
       "      <td>[{'visitor:i order another ring in exchange of...</td>\n",
       "      <td>Lifetime exchange</td>\n",
       "      <td>pre_sale</td>\n",
       "    </tr>\n",
       "    <tr>\n",
       "      <th>197</th>\n",
       "      <td>197</td>\n",
       "      <td>4430</td>\n",
       "      <td>38555542-c0be-4b45-b304-d7d8cb218d8f</td>\n",
       "      <td>a567c2d1-7894-4df2-84a7-bf9befba37c1</td>\n",
       "      <td>a567c2d1-7894-4df2-84a7-bf9befba37c1-167628561...</td>\n",
       "      <td>5106777f-849b-41f6-bf04-47eaa0af937f</td>\n",
       "      <td>agent</td>\n",
       "      <td>2023-02-13 12:41:51.667</td>\n",
       "      <td>1</td>\n",
       "      <td>d86f499f-092b-4531-8803-608686e36869</td>\n",
       "      <td>Conversation was marked resolved by Siddhi d</td>\n",
       "      <td>I missplace 1 earring of this order no . Is it...</td>\n",
       "      <td>[{'visitor:I missplace 1 earring of this order...</td>\n",
       "      <td>Old gold exchange</td>\n",
       "      <td>post_sale</td>\n",
       "    </tr>\n",
       "    <tr>\n",
       "      <th>198</th>\n",
       "      <td>198</td>\n",
       "      <td>118409</td>\n",
       "      <td>b25ead53-270a-4de5-a46d-4a2b57fe3297</td>\n",
       "      <td>5c50a28a-0f26-42e8-82c7-6fd42076a5a3</td>\n",
       "      <td>5c50a28a-0f26-42e8-82c7-6fd42076a5a3-167628909...</td>\n",
       "      <td>871666ba-153c-46d7-a9f9-51124a59ea59</td>\n",
       "      <td>agent</td>\n",
       "      <td>2023-02-13 12:36:41.364</td>\n",
       "      <td>1</td>\n",
       "      <td>d86f499f-092b-4531-8803-608686e36869</td>\n",
       "      <td>Conversation was marked resolved by Salma S</td>\n",
       "      <td>hi Akash chatterjee  chatterjrr.akash1522@gmai...</td>\n",
       "      <td>[{'visitor:hi'}, {'visitor:Akash chatterjee '}...</td>\n",
       "      <td>rush delivery</td>\n",
       "      <td>post_sale</td>\n",
       "    </tr>\n",
       "    <tr>\n",
       "      <th>199</th>\n",
       "      <td>199</td>\n",
       "      <td>78089</td>\n",
       "      <td>92170feb-1d52-411f-a071-a302b7876f53</td>\n",
       "      <td>3b5b11bc-549c-451b-9744-00ce0fbca771</td>\n",
       "      <td>3b5b11bc-549c-451b-9744-00ce0fbca771-167628745...</td>\n",
       "      <td>170285b3-767c-4010-bf6d-c9e2b6a30aa6</td>\n",
       "      <td>agent</td>\n",
       "      <td>2023-02-13 12:35:44.793</td>\n",
       "      <td>1</td>\n",
       "      <td>d86f499f-092b-4531-8803-608686e36869</td>\n",
       "      <td>Conversation was marked resolved by Salma S</td>\n",
       "      <td>hi Manish Chakraborty  gRungeddd.maxx@gmail.co...</td>\n",
       "      <td>[{'visitor:hi'}, {'visitor:Manish Chakraborty ...</td>\n",
       "      <td>refund</td>\n",
       "      <td>post_sale</td>\n",
       "    </tr>\n",
       "  </tbody>\n",
       "</table>\n",
       "<p>200 rows × 15 columns</p>\n",
       "</div>"
      ],
      "text/plain": [
       "     Unnamed: 0.1  Unnamed: 0                           customer_id  \\\n",
       "0               0      111675  B471593D-FD91-45F9-A113-3A4943C9C423   \n",
       "1               1      107268  39ba1416-be75-4b43-8e66-ea2efd9e587f   \n",
       "2               2       70682  20908797-e4f2-4482-803f-9bd8cd073c75   \n",
       "3               3       26678  DE5BC928-21B2-4FE8-89EC-16CE41C1558B   \n",
       "4               4       74837  d677bd69-94f0-44a7-9cd5-888f5799cad1   \n",
       "..            ...         ...                                   ...   \n",
       "195           195       83512  54317279-F35E-4D72-BD1C-CEABB4D3EED1   \n",
       "196           196       41321  b0239c90-d470-431e-96de-6d620f6a9df5   \n",
       "197           197        4430  38555542-c0be-4b45-b304-d7d8cb218d8f   \n",
       "198           198      118409  b25ead53-270a-4de5-a46d-4a2b57fe3297   \n",
       "199           199       78089  92170feb-1d52-411f-a071-a302b7876f53   \n",
       "\n",
       "                          conversation_id  \\\n",
       "0    8cbffe26-78d6-4587-8c01-8fe533c05d9b   \n",
       "1    a05d1a64-7b5e-436c-b960-c6c6f0cb62b3   \n",
       "2    f6df81b5-580d-4c52-bb64-f4694b3542dc   \n",
       "3    cc7aa350-405d-4daa-ae87-958c3886587b   \n",
       "4    f2b28644-c8aa-406f-b130-d20562c6691c   \n",
       "..                                    ...   \n",
       "195  109e5ff6-4db1-44a8-b39f-b501b7ffaf0b   \n",
       "196  8da5e35c-114e-4c3e-bfb3-4f5f82e4aede   \n",
       "197  a567c2d1-7894-4df2-84a7-bf9befba37c1   \n",
       "198  5c50a28a-0f26-42e8-82c7-6fd42076a5a3   \n",
       "199  3b5b11bc-549c-451b-9744-00ce0fbca771   \n",
       "\n",
       "                                        interaction_id  \\\n",
       "0    8cbffe26-78d6-4587-8c01-8fe533c05d9b-167637584...   \n",
       "1    a05d1a64-7b5e-436c-b960-c6c6f0cb62b3-167636493...   \n",
       "2    f6df81b5-580d-4c52-bb64-f4694b3542dc-167638488...   \n",
       "3    cc7aa350-405d-4daa-ae87-958c3886587b-167638293...   \n",
       "4    f2b28644-c8aa-406f-b130-d20562c6691c-167637877...   \n",
       "..                                                 ...   \n",
       "195  109e5ff6-4db1-44a8-b39f-b501b7ffaf0b-167628832...   \n",
       "196  8da5e35c-114e-4c3e-bfb3-4f5f82e4aede-167622149...   \n",
       "197  a567c2d1-7894-4df2-84a7-bf9befba37c1-167628561...   \n",
       "198  5c50a28a-0f26-42e8-82c7-6fd42076a5a3-167628909...   \n",
       "199  3b5b11bc-549c-451b-9744-00ce0fbca771-167628745...   \n",
       "\n",
       "                                  chat_id actor_type            created_time  \\\n",
       "0    e94b0806-b9c6-48f4-b5fc-c973cedb0221      agent 2023-02-14 14:49:13.394   \n",
       "1    9a16286c-b560-42ea-b359-c1219105a416      agent 2023-02-14 14:47:29.256   \n",
       "2    31988e72-62f4-46e0-aacd-ec84e8a3cce5      agent 2023-02-14 14:45:41.184   \n",
       "3    6b846b8a-087b-4e86-832e-8d0b581580b2      agent 2023-02-14 14:45:36.089   \n",
       "4    7f1d6cb4-ff69-4d9c-928a-3dc26e8432ad      agent 2023-02-14 14:27:06.317   \n",
       "..                                    ...        ...                     ...   \n",
       "195  56b67fc5-0a97-4b01-98d5-ad0d365e9360      agent 2023-02-13 12:43:11.000   \n",
       "196  37d8cb06-6ead-46da-ae5b-c81cf69fb8e6      agent 2023-02-13 12:42:46.442   \n",
       "197  5106777f-849b-41f6-bf04-47eaa0af937f      agent 2023-02-13 12:41:51.667   \n",
       "198  871666ba-153c-46d7-a9f9-51124a59ea59      agent 2023-02-13 12:36:41.364   \n",
       "199  170285b3-767c-4010-bf6d-c9e2b6a30aa6      agent 2023-02-13 12:35:44.793   \n",
       "\n",
       "     resolved                            channel_id  \\\n",
       "0           1  d86f499f-092b-4531-8803-608686e36869   \n",
       "1           1  d86f499f-092b-4531-8803-608686e36869   \n",
       "2           1  1925a070-b98f-4ab3-9812-50fe474f0b48   \n",
       "3           1  1925a070-b98f-4ab3-9812-50fe474f0b48   \n",
       "4           1  1925a070-b98f-4ab3-9812-50fe474f0b48   \n",
       "..        ...                                   ...   \n",
       "195         1  d86f499f-092b-4531-8803-608686e36869   \n",
       "196         1  d86f499f-092b-4531-8803-608686e36869   \n",
       "197         1  d86f499f-092b-4531-8803-608686e36869   \n",
       "198         1  d86f499f-092b-4531-8803-608686e36869   \n",
       "199         1  d86f499f-092b-4531-8803-608686e36869   \n",
       "\n",
       "                                         message_parts  \\\n",
       "0           Conversation was marked resolved by Neel B   \n",
       "1    Conversation was marked resolved by Priyanka B...   \n",
       "2     Conversation was marked resolved by Saba  Shaikh   \n",
       "3    Conversation was marked resolved by Priyanka B...   \n",
       "4       Conversation was marked resolved by Mohammed A   \n",
       "..                                                 ...   \n",
       "195        Conversation was marked resolved by Salma S   \n",
       "196  Conversation was marked resolved by Apurva Shetty   \n",
       "197       Conversation was marked resolved by Siddhi d   \n",
       "198        Conversation was marked resolved by Salma S   \n",
       "199        Conversation was marked resolved by Salma S   \n",
       "\n",
       "                                 conversations_content  \\\n",
       "0    Hi Conversation was assigned to Harsh Mehta by...   \n",
       "1    Conversation was reopened by Mainak Mallick hi...   \n",
       "2    Hi Pallavi pallavi.pnd@gmail.com +918120386208...   \n",
       "3    Hi Conversation was assigned to Priyanka Biswa...   \n",
       "4    Hii Rejeena rejeenajoy99@gmail.com 8893620820 ...   \n",
       "..                                                 ...   \n",
       "195  Conversation was reopened by Deeba Farah When ...   \n",
       "196  i order another ring in exchange of this broke...   \n",
       "197  I missplace 1 earring of this order no . Is it...   \n",
       "198  hi Akash chatterjee  chatterjrr.akash1522@gmai...   \n",
       "199  hi Manish Chakraborty  gRungeddd.maxx@gmail.co...   \n",
       "\n",
       "                                         content_array               subtag  \\\n",
       "0    [{'visitor:Hi'}, {'agent:Conversation was assi...       price break up   \n",
       "1    [{'visitor:Conversation was reopened by Mainak...                 none   \n",
       "2    [{'visitor:Hi'}, {'visitor:Pallavi'}, {'visito...  jewellery selection   \n",
       "3    [{'visitor:Hi'}, {'agent:Conversation was assi...                 none   \n",
       "4    [{'visitor:Hii'}, {'visitor:Rejeena'}, {'visit...    Lifetime exchange   \n",
       "..                                                 ...                  ...   \n",
       "195  [{'visitor:Conversation was reopened by Deeba ...    Lifetime exchange   \n",
       "196  [{'visitor:i order another ring in exchange of...    Lifetime exchange   \n",
       "197  [{'visitor:I missplace 1 earring of this order...    Old gold exchange   \n",
       "198  [{'visitor:hi'}, {'visitor:Akash chatterjee '}...        rush delivery   \n",
       "199  [{'visitor:hi'}, {'visitor:Manish Chakraborty ...               refund   \n",
       "\n",
       "           tag  \n",
       "0     pre_sale  \n",
       "1          oth  \n",
       "2     pre_sale  \n",
       "3          oth  \n",
       "4     pre_sale  \n",
       "..         ...  \n",
       "195  post_sale  \n",
       "196   pre_sale  \n",
       "197  post_sale  \n",
       "198  post_sale  \n",
       "199  post_sale  \n",
       "\n",
       "[200 rows x 15 columns]"
      ]
     },
     "execution_count": 16,
     "metadata": {},
     "output_type": "execute_result"
    }
   ],
   "source": [
    "df"
   ]
  },
  {
   "cell_type": "code",
   "execution_count": 33,
   "id": "390a2e1d",
   "metadata": {},
   "outputs": [],
   "source": [
    "df.to_excel('tagssubtags_output6.xlsx')"
   ]
  },
  {
   "cell_type": "code",
   "execution_count": null,
   "id": "a79f1b05",
   "metadata": {},
   "outputs": [],
   "source": [
    "from keybert import KeyBERT"
   ]
  },
  {
   "cell_type": "code",
   "execution_count": null,
   "id": "543b2987",
   "metadata": {},
   "outputs": [],
   "source": [
    "kw_model = KeyBERT()"
   ]
  },
  {
   "cell_type": "code",
   "execution_count": null,
   "id": "147d976b",
   "metadata": {},
   "outputs": [],
   "source": [
    "def extract_keys(text):\n",
    "    keywords = kw_model.extract_keywords(text)\n",
    "    keywords = kw_model.extract_keywords(text, keyphrase_ngram_range=(1, 2), stop_words='english', top_n = 6, use_maxsum=False, diversity=0.4, nr_candidates=20)\n",
    "    return keywords"
   ]
  },
  {
   "cell_type": "code",
   "execution_count": null,
   "id": "a57fa741",
   "metadata": {},
   "outputs": [],
   "source": [
    "def keyonly(lst):\n",
    "    k = []\n",
    "    for i in range(0, len(lst)):\n",
    "        temp = (lst[i][0])\n",
    "        k.append(temp)\n",
    "    return k "
   ]
  },
  {
   "cell_type": "code",
   "execution_count": null,
   "id": "638e6fdb",
   "metadata": {},
   "outputs": [],
   "source": [
    "df1['keywords'] = df1['conversations_content'].apply(lambda x: extract_keys(x))"
   ]
  },
  {
   "cell_type": "code",
   "execution_count": null,
   "id": "6bf7d6d6",
   "metadata": {},
   "outputs": [],
   "source": [
    "df1['keywords'] = df1['keywords'].apply(lambda x: keyonly(x))"
   ]
  },
  {
   "cell_type": "code",
   "execution_count": null,
   "id": "2991d44f",
   "metadata": {},
   "outputs": [],
   "source": [
    "df1"
   ]
  },
  {
   "cell_type": "code",
   "execution_count": null,
   "id": "ec07b5e9",
   "metadata": {},
   "outputs": [],
   "source": []
  },
  {
   "cell_type": "code",
   "execution_count": null,
   "id": "2cf179e8",
   "metadata": {},
   "outputs": [],
   "source": []
  },
  {
   "cell_type": "code",
   "execution_count": null,
   "id": "976d1156",
   "metadata": {},
   "outputs": [],
   "source": []
  },
  {
   "cell_type": "code",
   "execution_count": null,
   "id": "c13eedab",
   "metadata": {},
   "outputs": [],
   "source": [
    "#file_name = 'pre-post.xlsx'\n",
    "#df.to_excel(file_name)\n",
    "#print('DataFrame is written to Excel File successfully.')"
   ]
  },
  {
   "cell_type": "code",
   "execution_count": null,
   "id": "df0a5c39",
   "metadata": {},
   "outputs": [],
   "source": []
  },
  {
   "cell_type": "code",
   "execution_count": null,
   "id": "bd40aac8",
   "metadata": {},
   "outputs": [],
   "source": []
  },
  {
   "cell_type": "code",
   "execution_count": null,
   "id": "61d81601",
   "metadata": {},
   "outputs": [],
   "source": []
  },
  {
   "cell_type": "code",
   "execution_count": null,
   "id": "87e16440",
   "metadata": {},
   "outputs": [],
   "source": []
  },
  {
   "cell_type": "code",
   "execution_count": null,
   "id": "e12b89df",
   "metadata": {},
   "outputs": [],
   "source": []
  },
  {
   "cell_type": "code",
   "execution_count": null,
   "id": "2b265649",
   "metadata": {},
   "outputs": [],
   "source": []
  }
 ],
 "metadata": {
  "kernelspec": {
   "display_name": "Python 3 (ipykernel)",
   "language": "python",
   "name": "python3"
  },
  "language_info": {
   "codemirror_mode": {
    "name": "ipython",
    "version": 3
   },
   "file_extension": ".py",
   "mimetype": "text/x-python",
   "name": "python",
   "nbconvert_exporter": "python",
   "pygments_lexer": "ipython3",
   "version": "3.9.12"
  }
 },
 "nbformat": 4,
 "nbformat_minor": 5
}
