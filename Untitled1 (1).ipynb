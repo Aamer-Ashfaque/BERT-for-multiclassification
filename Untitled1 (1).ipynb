{
 "cells": [
  {
   "cell_type": "code",
   "execution_count": 1,
   "id": "ce66152a",
   "metadata": {},
   "outputs": [
    {
     "name": "stderr",
     "output_type": "stream",
     "text": [
      "2023-07-12 20:26:04.303880: I tensorflow/core/util/port.cc:110] oneDNN custom operations are on. You may see slightly different numerical results due to floating-point round-off errors from different computation orders. To turn them off, set the environment variable `TF_ENABLE_ONEDNN_OPTS=0`.\n",
      "2023-07-12 20:26:04.466694: I tensorflow/core/platform/cpu_feature_guard.cc:182] This TensorFlow binary is optimized to use available CPU instructions in performance-critical operations.\n",
      "To enable the following instructions: AVX2 AVX512F AVX512_VNNI FMA, in other operations, rebuild TensorFlow with the appropriate compiler flags.\n",
      "2023-07-12 20:26:05.083896: W tensorflow/compiler/tf2tensorrt/utils/py_utils.cc:38] TF-TRT Warning: Could not find TensorRT\n"
     ]
    },
    {
     "data": {
      "text/html": [
       "<div>\n",
       "<style scoped>\n",
       "    .dataframe tbody tr th:only-of-type {\n",
       "        vertical-align: middle;\n",
       "    }\n",
       "\n",
       "    .dataframe tbody tr th {\n",
       "        vertical-align: top;\n",
       "    }\n",
       "\n",
       "    .dataframe thead th {\n",
       "        text-align: right;\n",
       "    }\n",
       "</style>\n",
       "<table border=\"1\" class=\"dataframe\">\n",
       "  <thead>\n",
       "    <tr style=\"text-align: right;\">\n",
       "      <th></th>\n",
       "      <th>conversations_content</th>\n",
       "      <th>sub_tags</th>\n",
       "    </tr>\n",
       "  </thead>\n",
       "  <tbody>\n",
       "    <tr>\n",
       "      <th>0</th>\n",
       "      <td>['Hi Assigned to group International . Chat by...</td>\n",
       "      <td>international</td>\n",
       "    </tr>\n",
       "    <tr>\n",
       "      <th>1</th>\n",
       "      <td>['Hi Vidit Viditagarwal07@gmail.com  216.501.1...</td>\n",
       "      <td>international</td>\n",
       "    </tr>\n",
       "    <tr>\n",
       "      <th>2</th>\n",
       "      <td>['Do you deliver to Canada?']</td>\n",
       "      <td>international</td>\n",
       "    </tr>\n",
       "    <tr>\n",
       "      <th>3</th>\n",
       "      <td>['Hi Assigned to group Postsale . Chat by Prod...</td>\n",
       "      <td>address change</td>\n",
       "    </tr>\n",
       "    <tr>\n",
       "      <th>4</th>\n",
       "      <td>['Do you deliver to New York?']</td>\n",
       "      <td>international</td>\n",
       "    </tr>\n",
       "  </tbody>\n",
       "</table>\n",
       "</div>"
      ],
      "text/plain": [
       "                               conversations_content        sub_tags\n",
       "0  ['Hi Assigned to group International . Chat by...   international\n",
       "1  ['Hi Vidit Viditagarwal07@gmail.com  216.501.1...   international\n",
       "2                      ['Do you deliver to Canada?']   international\n",
       "3  ['Hi Assigned to group Postsale . Chat by Prod...  address change\n",
       "4                    ['Do you deliver to New York?']   international"
      ]
     },
     "execution_count": 1,
     "metadata": {},
     "output_type": "execute_result"
    }
   ],
   "source": [
    "import pandas as pd\n",
    "import numpy as np\n",
    "import torch\n",
    "from tqdm.auto import tqdm\n",
    "import tensorflow as tf\n",
    "from transformers import BertTokenizer\n",
    "from torch.utils.data import TensorDataset\n",
    "from sklearn import preprocessing\n",
    "from transformers import BertForSequenceClassification\n",
    "\n",
    "df = pd.read_excel('/home/ameer/Documents/data_subcategories.xlsx')\n",
    "df.head()"
   ]
  },
  {
   "cell_type": "code",
   "execution_count": 2,
   "id": "84dca4cf",
   "metadata": {},
   "outputs": [
    {
     "data": {
      "text/plain": [
       "(1923, 2)"
      ]
     },
     "execution_count": 2,
     "metadata": {},
     "output_type": "execute_result"
    }
   ],
   "source": [
    "df.shape"
   ]
  },
  {
   "cell_type": "code",
   "execution_count": 9,
   "id": "c50bb187",
   "metadata": {},
   "outputs": [],
   "source": [
    "def preprocess(df):\n",
    "    #df['conversations_content'] = df['conversations_content'].str.replace('[','',regex = True)\n",
    "    df['conversations_content'] = df['conversations_content'].str.replace(']','',regex = True)\n",
    "    df['conversations_content'] = df['conversations_content'].str.replace('/','',regex = True)\n",
    "    df['conversations_content'] = df['conversations_content'].str.replace('`','')\n",
    "    df['conversations_content'] = df['conversations_content'].str.replace(\"',\",'')\n",
    "    df['conversations_content'] = df['conversations_content'].str.replace('\",','')\n",
    "    df['conversations_content'] = df['conversations_content'].str.replace(\"'\",'')\n",
    "    df['conversations_content'] = df['conversations_content'].str.replace('\"','')\n",
    "    df['conversations_content'] = df['conversations_content'].str.replace(',','.')\n",
    "    #df1['conversations_content'] = df1['conversations_content'].str.replace(r'\\..','.')\n",
    "    #df1['conversations_content'] = df1['conversations_content'].str.replace('ill','i will')\n",
    "    df['conversations_content'] = df['conversations_content'].str.replace(r'-','.')\n",
    "    df['conversations_content'] = df['conversations_content'].str.replace(r'\\\\n','',regex = True)\n",
    "    df['conversations_content'] = df['conversations_content'].str.replace(r'\\\\t','',regex = True)\n",
    "    df['conversations_content'] = df['conversations_content'].str.replace('Usa|usa','USA', regex = True)\n",
    "    \n",
    "    return df"
   ]
  },
  {
   "cell_type": "code",
   "execution_count": 10,
   "id": "9a6ee4e5",
   "metadata": {},
   "outputs": [],
   "source": [
    "df['conversations_content'] = df['conversations_content'].astype(str)"
   ]
  },
  {
   "cell_type": "code",
   "execution_count": 11,
   "id": "5e802b4b",
   "metadata": {},
   "outputs": [],
   "source": [
    "df =  preprocess(df)\n",
    "\n",
    "df.dropna(inplace=True)"
   ]
  },
  {
   "cell_type": "code",
   "execution_count": 12,
   "id": "84954f24",
   "metadata": {},
   "outputs": [
    {
     "data": {
      "text/plain": [
       "(1923, 2)"
      ]
     },
     "execution_count": 12,
     "metadata": {},
     "output_type": "execute_result"
    }
   ],
   "source": [
    "df.shape"
   ]
  },
  {
   "cell_type": "code",
   "execution_count": 14,
   "id": "516bc1ce",
   "metadata": {},
   "outputs": [],
   "source": [
    "from sklearn import preprocessing\n",
    "le = preprocessing.LabelEncoder()\n",
    "df = df[df['sub_tags'].notnull()]\n",
    "le.fit(df['sub_tags'])\n",
    "df['label'] = le.transform(df['sub_tags'])"
   ]
  },
  {
   "cell_type": "code",
   "execution_count": 15,
   "id": "77490464",
   "metadata": {},
   "outputs": [],
   "source": [
    "df['label'] = df['label'].astype(int)"
   ]
  },
  {
   "cell_type": "code",
   "execution_count": 18,
   "id": "692a81d2",
   "metadata": {},
   "outputs": [
    {
     "data": {
      "text/plain": [
       "label\n",
       "24    476\n",
       "41    113\n",
       "29    105\n",
       "22     81\n",
       "11     71\n",
       "33     60\n",
       "13     57\n",
       "47     52\n",
       "27     52\n",
       "12     52\n",
       "43     46\n",
       "25     43\n",
       "35     43\n",
       "45     41\n",
       "53     41\n",
       "30     38\n",
       "36     34\n",
       "34     34\n",
       "50     27\n",
       "3      27\n",
       "16     26\n",
       "7      25\n",
       "42     25\n",
       "31     24\n",
       "51     21\n",
       "44     19\n",
       "0      19\n",
       "20     17\n",
       "48     16\n",
       "4      16\n",
       "21     16\n",
       "2      15\n",
       "6      14\n",
       "10     13\n",
       "8      13\n",
       "38     12\n",
       "26     12\n",
       "5      11\n",
       "49     11\n",
       "18     11\n",
       "19     11\n",
       "40      9\n",
       "15      9\n",
       "28      9\n",
       "46      7\n",
       "23      7\n",
       "52      7\n",
       "39      7\n",
       "17      6\n",
       "14      6\n",
       "1       5\n",
       "9       5\n",
       "37      5\n",
       "32      1\n",
       "Name: count, dtype: int64"
      ]
     },
     "execution_count": 18,
     "metadata": {},
     "output_type": "execute_result"
    }
   ],
   "source": [
    "df['label'].value_counts()"
   ]
  },
  {
   "cell_type": "code",
   "execution_count": 19,
   "id": "2a0c77e5",
   "metadata": {},
   "outputs": [
    {
     "name": "stderr",
     "output_type": "stream",
     "text": [
      "2023-07-12 20:32:40.736582: E tensorflow/compiler/xla/stream_executor/cuda/cuda_driver.cc:266] failed call to cuInit: CUDA_ERROR_NO_DEVICE: no CUDA-capable device is detected\n"
     ]
    }
   ],
   "source": [
    "tokenizer = BertTokenizer.from_pretrained('bert-base-cased', \n",
    "                                          do_lower_case=True)\n",
    "\n",
    "token = tokenizer.encode_plus(\n",
    "    df['conversations_content'].iloc[0], \n",
    "    max_length=512, \n",
    "    truncation=True, \n",
    "    padding='max_length', \n",
    "    add_special_tokens=True,\n",
    "    return_tensors='tf'\n",
    ")"
   ]
  },
  {
   "cell_type": "code",
   "execution_count": 20,
   "id": "bcea2231",
   "metadata": {},
   "outputs": [],
   "source": [
    "X_input_ids = np.zeros((len(df), 512))\n",
    "X_attn_masks = np.zeros((len(df), 512))"
   ]
  },
  {
   "cell_type": "code",
   "execution_count": 21,
   "id": "b4c40bec",
   "metadata": {},
   "outputs": [],
   "source": [
    "def generate_training_data(df, ids, masks, tokenizer):\n",
    "    for i, text in tqdm(enumerate(df['conversations_content'])):\n",
    "        tokenized_text = tokenizer.encode_plus(\n",
    "            text,\n",
    "            max_length=512, \n",
    "            truncation=True, \n",
    "            padding='max_length', \n",
    "            add_special_tokens=True,\n",
    "            return_tensors='tf'\n",
    "        )\n",
    "        ids[i, :] = tokenized_text.input_ids\n",
    "        masks[i, :] = tokenized_text.attention_mask\n",
    "    return ids, masks"
   ]
  },
  {
   "cell_type": "code",
   "execution_count": 22,
   "id": "739dcb16",
   "metadata": {},
   "outputs": [
    {
     "data": {
      "application/vnd.jupyter.widget-view+json": {
       "model_id": "8dadca8cd5054f8b99e37658a3b9fced",
       "version_major": 2,
       "version_minor": 0
      },
      "text/plain": [
       "0it [00:00, ?it/s]"
      ]
     },
     "metadata": {},
     "output_type": "display_data"
    }
   ],
   "source": [
    "X_input_ids, X_attn_masks = generate_training_data(df, X_input_ids, X_attn_masks, tokenizer)"
   ]
  },
  {
   "cell_type": "code",
   "execution_count": 23,
   "id": "b49ca53e",
   "metadata": {},
   "outputs": [],
   "source": [
    "m = df['label'].unique()\n",
    "N = len(m)"
   ]
  },
  {
   "cell_type": "code",
   "execution_count": 24,
   "id": "68336fe8",
   "metadata": {},
   "outputs": [
    {
     "data": {
      "text/plain": [
       "(1923, 54)"
      ]
     },
     "execution_count": 24,
     "metadata": {},
     "output_type": "execute_result"
    }
   ],
   "source": [
    "labels = np.zeros((len(df), N))\n",
    "labels.shape"
   ]
  },
  {
   "cell_type": "code",
   "execution_count": 25,
   "id": "0fd35a70",
   "metadata": {},
   "outputs": [],
   "source": [
    "labels[np.arange(len(df)), df['label'].values] = 1"
   ]
  },
  {
   "cell_type": "code",
   "execution_count": 26,
   "id": "8834a47a",
   "metadata": {},
   "outputs": [],
   "source": [
    "dataset = tf.data.Dataset.from_tensor_slices((X_input_ids, X_attn_masks, labels))"
   ]
  },
  {
   "cell_type": "code",
   "execution_count": 27,
   "id": "bdb47658",
   "metadata": {},
   "outputs": [],
   "source": [
    "def ClassMapFunction(input_ids, attn_masks, labels):\n",
    "    return {\n",
    "        'input_ids': input_ids,\n",
    "        'attention_mask': attn_masks\n",
    "    },labels"
   ]
  },
  {
   "cell_type": "code",
   "execution_count": 28,
   "id": "a7408c2c",
   "metadata": {},
   "outputs": [],
   "source": [
    "dataset = dataset.map(ClassMapFunction) # converting to required format for tensorflow dataset\n",
    "\n",
    "dataset = dataset.shuffle(len(df)).batch(2, drop_remainder=True)"
   ]
  },
  {
   "cell_type": "code",
   "execution_count": 29,
   "id": "934e0a09",
   "metadata": {},
   "outputs": [],
   "source": [
    "p = 0.95\n",
    "train_size = int((len(df)//1.2)*p)"
   ]
  },
  {
   "cell_type": "code",
   "execution_count": 30,
   "id": "9b086c73",
   "metadata": {},
   "outputs": [
    {
     "data": {
      "text/plain": [
       "1521"
      ]
     },
     "execution_count": 30,
     "metadata": {},
     "output_type": "execute_result"
    }
   ],
   "source": [
    "train_size"
   ]
  },
  {
   "cell_type": "code",
   "execution_count": 31,
   "id": "d96d80e9",
   "metadata": {},
   "outputs": [],
   "source": [
    "train_dataset = dataset.take(train_size)\n",
    "val_dataset = dataset.skip(train_size)"
   ]
  },
  {
   "cell_type": "code",
   "execution_count": 32,
   "id": "c7447a40",
   "metadata": {},
   "outputs": [
    {
     "name": "stderr",
     "output_type": "stream",
     "text": [
      "Some layers from the model checkpoint at bert-base-cased were not used when initializing TFBertModel: ['nsp___cls', 'mlm___cls']\n",
      "- This IS expected if you are initializing TFBertModel from the checkpoint of a model trained on another task or with another architecture (e.g. initializing a BertForSequenceClassification model from a BertForPreTraining model).\n",
      "- This IS NOT expected if you are initializing TFBertModel from the checkpoint of a model that you expect to be exactly identical (initializing a BertForSequenceClassification model from a BertForSequenceClassification model).\n",
      "All the layers of TFBertModel were initialized from the model checkpoint at bert-base-cased.\n",
      "If your task is similar to the task the model of the checkpoint was trained on, you can already use TFBertModel for predictions without further training.\n"
     ]
    }
   ],
   "source": [
    "from transformers import TFBertModel\n",
    "\n",
    "model = TFBertModel.from_pretrained('bert-base-cased')"
   ]
  },
  {
   "cell_type": "code",
   "execution_count": 33,
   "id": "562a0c30",
   "metadata": {},
   "outputs": [
    {
     "name": "stdout",
     "output_type": "stream",
     "text": [
      "Model: \"model\"\n",
      "__________________________________________________________________________________________________\n",
      " Layer (type)                   Output Shape         Param #     Connected to                     \n",
      "==================================================================================================\n",
      " input_ids (InputLayer)         [(None, 512)]        0           []                               \n",
      "                                                                                                  \n",
      " attention_mask (InputLayer)    [(None, 512)]        0           []                               \n",
      "                                                                                                  \n",
      " bert (TFBertMainLayer)         TFBaseModelOutputWi  108310272   ['input_ids[0][0]',              \n",
      "                                thPoolingAndCrossAt               'attention_mask[0][0]']         \n",
      "                                tentions(last_hidde                                               \n",
      "                                n_state=(None, 512,                                               \n",
      "                                 768),                                                            \n",
      "                                 pooler_output=(Non                                               \n",
      "                                e, 768),                                                          \n",
      "                                 past_key_values=No                                               \n",
      "                                ne, hidden_states=N                                               \n",
      "                                one, attentions=Non                                               \n",
      "                                e, cross_attentions                                               \n",
      "                                =None)                                                            \n",
      "                                                                                                  \n",
      " intermediate_layer (Dense)     (None, 512)          393728      ['bert[0][1]']                   \n",
      "                                                                                                  \n",
      " output_layer (Dense)           (None, 54)           27702       ['intermediate_layer[0][0]']     \n",
      "                                                                                                  \n",
      "==================================================================================================\n",
      "Total params: 108,731,702\n",
      "Trainable params: 108,731,702\n",
      "Non-trainable params: 0\n",
      "__________________________________________________________________________________________________\n"
     ]
    }
   ],
   "source": [
    "# defining 2 input layers for input_ids and attn_masks\n",
    "input_ids = tf.keras.layers.Input(shape=(512,), name='input_ids', dtype='int32')\n",
    "attn_masks = tf.keras.layers.Input(shape=(512,), name='attention_mask', dtype='int32')\n",
    "\n",
    "bert_embds = model.bert(input_ids, attention_mask=attn_masks)[1] # 0 -> activation layer (3D), 1 -> pooled output layer (2D)\n",
    "intermediate_layer = tf.keras.layers.Dense(512, activation='relu', name='intermediate_layer')(bert_embds)\n",
    "output_layer = tf.keras.layers.Dense(N, activation='softmax', name='output_layer')(intermediate_layer) # softmax -> calcs probs of classes\n",
    "\n",
    "class_model = tf.keras.Model(inputs=[input_ids, attn_masks], outputs=output_layer)\n",
    "class_model.summary()"
   ]
  },
  {
   "cell_type": "code",
   "execution_count": 34,
   "id": "ceef869f",
   "metadata": {},
   "outputs": [],
   "source": [
    "optim = tf.keras.optimizers.legacy.Adam(learning_rate=1e-5, decay=1e-6)\n",
    "loss_func = tf.keras.losses.CategoricalCrossentropy()\n",
    "acc = tf.keras.metrics.CategoricalAccuracy('accuracy')"
   ]
  },
  {
   "cell_type": "code",
   "execution_count": 35,
   "id": "a86afb83",
   "metadata": {},
   "outputs": [],
   "source": [
    "class_model.compile(optimizer=optim, loss=loss_func, metrics=[acc])"
   ]
  },
  {
   "cell_type": "code",
   "execution_count": 36,
   "id": "067be514",
   "metadata": {},
   "outputs": [
    {
     "name": "stdout",
     "output_type": "stream",
     "text": [
      "Epoch 1/15\n"
     ]
    },
    {
     "name": "stderr",
     "output_type": "stream",
     "text": [
      "2023-07-12 20:44:00.687741: I tensorflow/core/common_runtime/executor.cc:1197] [/device:CPU:0] (DEBUG INFO) Executor start aborting (this does not indicate an error and you can ignore this message): INVALID_ARGUMENT: You must feed a value for placeholder tensor 'Placeholder/_0' with dtype double and shape [1923,512]\n",
      "\t [[{{node Placeholder/_0}}]]\n",
      "2023-07-12 20:44:00.687983: I tensorflow/core/common_runtime/executor.cc:1197] [/device:CPU:0] (DEBUG INFO) Executor start aborting (this does not indicate an error and you can ignore this message): INVALID_ARGUMENT: You must feed a value for placeholder tensor 'Placeholder/_2' with dtype double and shape [1923,54]\n",
      "\t [[{{node Placeholder/_2}}]]\n"
     ]
    },
    {
     "name": "stdout",
     "output_type": "stream",
     "text": [
      "961/961 [==============================] - 5344s 6s/step - loss: 3.0582 - accuracy: 0.3101\n",
      "Epoch 2/15\n"
     ]
    },
    {
     "name": "stderr",
     "output_type": "stream",
     "text": [
      "2023-07-12 22:13:04.925028: I tensorflow/core/common_runtime/executor.cc:1197] [/device:CPU:0] (DEBUG INFO) Executor start aborting (this does not indicate an error and you can ignore this message): INVALID_ARGUMENT: You must feed a value for placeholder tensor 'Placeholder/_2' with dtype double and shape [1923,54]\n",
      "\t [[{{node Placeholder/_2}}]]\n",
      "2023-07-12 22:13:04.925658: I tensorflow/core/common_runtime/executor.cc:1197] [/device:CPU:0] (DEBUG INFO) Executor start aborting (this does not indicate an error and you can ignore this message): INVALID_ARGUMENT: You must feed a value for placeholder tensor 'Placeholder/_1' with dtype double and shape [1923,512]\n",
      "\t [[{{node Placeholder/_1}}]]\n"
     ]
    },
    {
     "name": "stdout",
     "output_type": "stream",
     "text": [
      "961/961 [==============================] - 5452s 6s/step - loss: 2.0838 - accuracy: 0.5104\n",
      "Epoch 3/15\n",
      "961/961 [==============================] - 5445s 6s/step - loss: 1.4080 - accuracy: 0.6639\n",
      "Epoch 4/15\n",
      "961/961 [==============================] - 5431s 6s/step - loss: 0.9849 - accuracy: 0.7591\n",
      "Epoch 5/15\n",
      "961/961 [==============================] - 5438s 6s/step - loss: 0.7068 - accuracy: 0.8325\n",
      "Epoch 6/15\n",
      "961/961 [==============================] - 5439s 6s/step - loss: 0.4830 - accuracy: 0.8861\n",
      "Epoch 7/15\n",
      "961/961 [==============================] - 5441s 6s/step - loss: 0.3388 - accuracy: 0.9209\n",
      "Epoch 8/15\n",
      "961/961 [==============================] - 5436s 6s/step - loss: 0.1985 - accuracy: 0.9625\n",
      "Epoch 9/15\n",
      "961/961 [==============================] - 5467s 6s/step - loss: 0.1441 - accuracy: 0.9724\n",
      "Epoch 10/15\n",
      "961/961 [==============================] - 5466s 6s/step - loss: 0.0962 - accuracy: 0.9844\n",
      "Epoch 11/15\n",
      "961/961 [==============================] - 5421s 6s/step - loss: 0.1201 - accuracy: 0.9688\n",
      "Epoch 12/15\n",
      "961/961 [==============================] - 5414s 6s/step - loss: 0.0650 - accuracy: 0.9880\n",
      "Epoch 13/15\n",
      "961/961 [==============================] - 5457s 6s/step - loss: 0.0731 - accuracy: 0.9849\n",
      "Epoch 14/15\n",
      "961/961 [==============================] - 5458s 6s/step - loss: 0.0664 - accuracy: 0.9834\n",
      "Epoch 15/15\n",
      "961/961 [==============================] - 5472s 6s/step - loss: 0.0532 - accuracy: 0.9849\n"
     ]
    }
   ],
   "source": [
    "hist = class_model.fit(train_dataset,validation_data=val_dataset,epochs=15)"
   ]
  },
  {
   "cell_type": "code",
   "execution_count": 38,
   "id": "6b0d3e50",
   "metadata": {},
   "outputs": [
    {
     "name": "stderr",
     "output_type": "stream",
     "text": [
      "2023-07-14 03:23:05.850704: I tensorflow/core/common_runtime/executor.cc:1197] [/device:CPU:0] (DEBUG INFO) Executor start aborting (this does not indicate an error and you can ignore this message): INVALID_ARGUMENT: You must feed a value for placeholder tensor 'input_ids' with dtype int32 and shape [?,512]\n",
      "\t [[{{node input_ids}}]]\n",
      "2023-07-14 03:23:05.850768: I tensorflow/core/common_runtime/executor.cc:1197] [/device:CPU:0] (DEBUG INFO) Executor start aborting (this does not indicate an error and you can ignore this message): INVALID_ARGUMENT: You must feed a value for placeholder tensor 'attention_mask' with dtype int32 and shape [?,512]\n",
      "\t [[{{node attention_mask}}]]\n",
      "2023-07-14 03:23:06.755817: I tensorflow/core/common_runtime/executor.cc:1197] [/device:CPU:0] (DEBUG INFO) Executor start aborting (this does not indicate an error and you can ignore this message): INVALID_ARGUMENT: You must feed a value for placeholder tensor 'input_ids' with dtype int32 and shape [?,512]\n",
      "\t [[{{node input_ids}}]]\n",
      "2023-07-14 03:23:06.755891: I tensorflow/core/common_runtime/executor.cc:1197] [/device:CPU:0] (DEBUG INFO) Executor start aborting (this does not indicate an error and you can ignore this message): INVALID_ARGUMENT: You must feed a value for placeholder tensor 'attention_mask' with dtype int32 and shape [?,512]\n",
      "\t [[{{node attention_mask}}]]\n",
      "2023-07-14 03:23:06.828707: I tensorflow/core/common_runtime/executor.cc:1197] [/device:CPU:0] (DEBUG INFO) Executor start aborting (this does not indicate an error and you can ignore this message): INVALID_ARGUMENT: You must feed a value for placeholder tensor 'inputs' with dtype int32 and shape [?,512]\n",
      "\t [[{{node inputs}}]]\n",
      "2023-07-14 03:23:06.828768: I tensorflow/core/common_runtime/executor.cc:1197] [/device:CPU:0] (DEBUG INFO) Executor start aborting (this does not indicate an error and you can ignore this message): INVALID_ARGUMENT: You must feed a value for placeholder tensor 'inputs_1' with dtype int32 and shape [?,512]\n",
      "\t [[{{node inputs_1}}]]\n",
      "2023-07-14 03:23:06.897134: I tensorflow/core/common_runtime/executor.cc:1197] [/device:CPU:0] (DEBUG INFO) Executor start aborting (this does not indicate an error and you can ignore this message): INVALID_ARGUMENT: You must feed a value for placeholder tensor 'input_ids' with dtype int32 and shape [?,512]\n",
      "\t [[{{node input_ids}}]]\n",
      "2023-07-14 03:23:06.897192: I tensorflow/core/common_runtime/executor.cc:1197] [/device:CPU:0] (DEBUG INFO) Executor start aborting (this does not indicate an error and you can ignore this message): INVALID_ARGUMENT: You must feed a value for placeholder tensor 'attention_mask' with dtype int32 and shape [?,512]\n",
      "\t [[{{node attention_mask}}]]\n",
      "2023-07-14 03:23:06.967325: I tensorflow/core/common_runtime/executor.cc:1197] [/device:CPU:0] (DEBUG INFO) Executor start aborting (this does not indicate an error and you can ignore this message): INVALID_ARGUMENT: You must feed a value for placeholder tensor 'inputs' with dtype int32 and shape [?,512]\n",
      "\t [[{{node inputs}}]]\n",
      "2023-07-14 03:23:06.967398: I tensorflow/core/common_runtime/executor.cc:1197] [/device:CPU:0] (DEBUG INFO) Executor start aborting (this does not indicate an error and you can ignore this message): INVALID_ARGUMENT: You must feed a value for placeholder tensor 'inputs_1' with dtype int32 and shape [?,512]\n",
      "\t [[{{node inputs_1}}]]\n",
      "2023-07-14 03:23:07.035951: I tensorflow/core/common_runtime/executor.cc:1197] [/device:CPU:0] (DEBUG INFO) Executor start aborting (this does not indicate an error and you can ignore this message): INVALID_ARGUMENT: You must feed a value for placeholder tensor 'input_ids' with dtype int32 and shape [?,512]\n",
      "\t [[{{node input_ids}}]]\n",
      "2023-07-14 03:23:07.036013: I tensorflow/core/common_runtime/executor.cc:1197] [/device:CPU:0] (DEBUG INFO) Executor start aborting (this does not indicate an error and you can ignore this message): INVALID_ARGUMENT: You must feed a value for placeholder tensor 'attention_mask' with dtype int32 and shape [?,512]\n",
      "\t [[{{node attention_mask}}]]\n",
      "2023-07-14 03:23:07.102913: I tensorflow/core/common_runtime/executor.cc:1197] [/device:CPU:0] (DEBUG INFO) Executor start aborting (this does not indicate an error and you can ignore this message): INVALID_ARGUMENT: You must feed a value for placeholder tensor 'input_ids' with dtype int32 and shape [?,512]\n",
      "\t [[{{node input_ids}}]]\n",
      "2023-07-14 03:23:07.102978: I tensorflow/core/common_runtime/executor.cc:1197] [/device:CPU:0] (DEBUG INFO) Executor start aborting (this does not indicate an error and you can ignore this message): INVALID_ARGUMENT: You must feed a value for placeholder tensor 'attention_mask' with dtype int32 and shape [?,512]\n",
      "\t [[{{node attention_mask}}]]\n",
      "2023-07-14 03:23:07.168295: I tensorflow/core/common_runtime/executor.cc:1197] [/device:CPU:0] (DEBUG INFO) Executor start aborting (this does not indicate an error and you can ignore this message): INVALID_ARGUMENT: You must feed a value for placeholder tensor 'input_ids' with dtype int32 and shape [?,512]\n",
      "\t [[{{node input_ids}}]]\n",
      "2023-07-14 03:23:07.168353: I tensorflow/core/common_runtime/executor.cc:1197] [/device:CPU:0] (DEBUG INFO) Executor start aborting (this does not indicate an error and you can ignore this message): INVALID_ARGUMENT: You must feed a value for placeholder tensor 'attention_mask' with dtype int32 and shape [?,512]\n",
      "\t [[{{node attention_mask}}]]\n",
      "2023-07-14 03:23:07.248435: I tensorflow/core/common_runtime/executor.cc:1197] [/device:CPU:0] (DEBUG INFO) Executor start aborting (this does not indicate an error and you can ignore this message): INVALID_ARGUMENT: You must feed a value for placeholder tensor 'inputs' with dtype int32 and shape [?,512]\n",
      "\t [[{{node inputs}}]]\n",
      "2023-07-14 03:23:07.248499: I tensorflow/core/common_runtime/executor.cc:1197] [/device:CPU:0] (DEBUG INFO) Executor start aborting (this does not indicate an error and you can ignore this message): INVALID_ARGUMENT: You must feed a value for placeholder tensor 'inputs_1' with dtype int32 and shape [?,512]\n",
      "\t [[{{node inputs_1}}]]\n",
      "2023-07-14 03:23:07.313947: I tensorflow/core/common_runtime/executor.cc:1197] [/device:CPU:0] (DEBUG INFO) Executor start aborting (this does not indicate an error and you can ignore this message): INVALID_ARGUMENT: You must feed a value for placeholder tensor 'inputs' with dtype int32 and shape [?,512]\n",
      "\t [[{{node inputs}}]]\n",
      "2023-07-14 03:23:07.314008: I tensorflow/core/common_runtime/executor.cc:1197] [/device:CPU:0] (DEBUG INFO) Executor start aborting (this does not indicate an error and you can ignore this message): INVALID_ARGUMENT: You must feed a value for placeholder tensor 'inputs_1' with dtype int32 and shape [?,512]\n",
      "\t [[{{node inputs_1}}]]\n",
      "2023-07-14 03:23:07.421925: I tensorflow/core/common_runtime/executor.cc:1197] [/device:CPU:0] (DEBUG INFO) Executor start aborting (this does not indicate an error and you can ignore this message): INVALID_ARGUMENT: You must feed a value for placeholder tensor 'input_ids' with dtype int32 and shape [?,512]\n",
      "\t [[{{node input_ids}}]]\n",
      "2023-07-14 03:23:07.421985: I tensorflow/core/common_runtime/executor.cc:1197] [/device:CPU:0] (DEBUG INFO) Executor start aborting (this does not indicate an error and you can ignore this message): INVALID_ARGUMENT: You must feed a value for placeholder tensor 'attention_mask' with dtype int32 and shape [?,512]\n",
      "\t [[{{node attention_mask}}]]\n",
      "2023-07-14 03:23:07.521976: I tensorflow/core/common_runtime/executor.cc:1197] [/device:CPU:0] (DEBUG INFO) Executor start aborting (this does not indicate an error and you can ignore this message): INVALID_ARGUMENT: You must feed a value for placeholder tensor 'inputs_0' with dtype int32 and shape [?,512]\n",
      "\t [[{{node inputs_0}}]]\n",
      "2023-07-14 03:23:07.522038: I tensorflow/core/common_runtime/executor.cc:1197] [/device:CPU:0] (DEBUG INFO) Executor start aborting (this does not indicate an error and you can ignore this message): INVALID_ARGUMENT: You must feed a value for placeholder tensor 'inputs_1' with dtype int32 and shape [?,512]\n",
      "\t [[{{node inputs_1}}]]\n",
      "2023-07-14 03:23:07.587929: I tensorflow/core/common_runtime/executor.cc:1197] [/device:CPU:0] (DEBUG INFO) Executor start aborting (this does not indicate an error and you can ignore this message): INVALID_ARGUMENT: You must feed a value for placeholder tensor 'inputs_0' with dtype int32 and shape [?,512]\n",
      "\t [[{{node inputs_0}}]]\n",
      "2023-07-14 03:23:07.587989: I tensorflow/core/common_runtime/executor.cc:1197] [/device:CPU:0] (DEBUG INFO) Executor start aborting (this does not indicate an error and you can ignore this message): INVALID_ARGUMENT: You must feed a value for placeholder tensor 'inputs_1' with dtype int32 and shape [?,512]\n",
      "\t [[{{node inputs_1}}]]\n",
      "2023-07-14 03:23:09.456553: I tensorflow/core/common_runtime/executor.cc:1197] [/device:CPU:0] (DEBUG INFO) Executor start aborting (this does not indicate an error and you can ignore this message): INVALID_ARGUMENT: You must feed a value for placeholder tensor 'input_ids' with dtype int32 and shape [?,512]\n",
      "\t [[{{node input_ids}}]]\n",
      "2023-07-14 03:23:09.456616: I tensorflow/core/common_runtime/executor.cc:1197] [/device:CPU:0] (DEBUG INFO) Executor start aborting (this does not indicate an error and you can ignore this message): INVALID_ARGUMENT: You must feed a value for placeholder tensor 'attention_mask' with dtype int32 and shape [?,512]\n",
      "\t [[{{node attention_mask}}]]\n",
      "2023-07-14 03:23:09.534580: I tensorflow/core/common_runtime/executor.cc:1197] [/device:CPU:0] (DEBUG INFO) Executor start aborting (this does not indicate an error and you can ignore this message): INVALID_ARGUMENT: You must feed a value for placeholder tensor 'input_ids' with dtype int32 and shape [?,512]\n",
      "\t [[{{node input_ids}}]]\n",
      "2023-07-14 03:23:09.534651: I tensorflow/core/common_runtime/executor.cc:1197] [/device:CPU:0] (DEBUG INFO) Executor start aborting (this does not indicate an error and you can ignore this message): INVALID_ARGUMENT: You must feed a value for placeholder tensor 'attention_mask' with dtype int32 and shape [?,512]\n",
      "\t [[{{node attention_mask}}]]\n",
      "WARNING:absl:Found untraced functions such as embeddings_layer_call_fn, embeddings_layer_call_and_return_conditional_losses, encoder_layer_call_fn, encoder_layer_call_and_return_conditional_losses, pooler_layer_call_fn while saving (showing 5 of 420). These functions will not be directly callable after loading.\n",
      "2023-07-14 03:23:12.530484: I tensorflow/core/common_runtime/executor.cc:1197] [/device:CPU:0] (DEBUG INFO) Executor start aborting (this does not indicate an error and you can ignore this message): INVALID_ARGUMENT: You must feed a value for placeholder tensor 'serving_default_attention_mask' with dtype int32 and shape [?,512]\n",
      "\t [[{{node serving_default_attention_mask}}]]\n",
      "2023-07-14 03:23:12.530549: I tensorflow/core/common_runtime/executor.cc:1197] [/device:CPU:0] (DEBUG INFO) Executor start aborting (this does not indicate an error and you can ignore this message): INVALID_ARGUMENT: You must feed a value for placeholder tensor 'serving_default_input_ids' with dtype int32 and shape [?,512]\n",
      "\t [[{{node serving_default_input_ids}}]]\n"
     ]
    },
    {
     "name": "stdout",
     "output_type": "stream",
     "text": [
      "INFO:tensorflow:Assets written to: updatedsubclass_model/assets\n"
     ]
    },
    {
     "name": "stderr",
     "output_type": "stream",
     "text": [
      "INFO:tensorflow:Assets written to: updatedsubclass_model/assets\n"
     ]
    }
   ],
   "source": [
    "class_model.save('updatedsubclass_model')"
   ]
  },
  {
   "cell_type": "code",
   "execution_count": null,
   "id": "ba1d8b42",
   "metadata": {},
   "outputs": [],
   "source": []
  }
 ],
 "metadata": {
  "kernelspec": {
   "display_name": "Python 3 (ipykernel)",
   "language": "python",
   "name": "python3"
  },
  "language_info": {
   "codemirror_mode": {
    "name": "ipython",
    "version": 3
   },
   "file_extension": ".py",
   "mimetype": "text/x-python",
   "name": "python",
   "nbconvert_exporter": "python",
   "pygments_lexer": "ipython3",
   "version": "3.10.6"
  }
 },
 "nbformat": 4,
 "nbformat_minor": 5
}
